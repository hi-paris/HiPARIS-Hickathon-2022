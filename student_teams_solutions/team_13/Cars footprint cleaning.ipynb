{
 "cells": [
  {
   "cell_type": "code",
   "execution_count": 1,
   "id": "f80c202d",
   "metadata": {},
   "outputs": [],
   "source": [
    "# Packages importation\n",
    "import pandas as pd\n",
    "import numpy as np\n",
    "from PIL import Image\n",
    "import matplotlib.pyplot as plt\n",
    "import matplotlib.patches as patches"
   ]
  },
  {
   "cell_type": "code",
   "execution_count": 3,
   "id": "31fb5cb5",
   "metadata": {},
   "outputs": [
    {
     "data": {
      "text/html": [
       "<div>\n",
       "<style scoped>\n",
       "    .dataframe tbody tr th:only-of-type {\n",
       "        vertical-align: middle;\n",
       "    }\n",
       "\n",
       "    .dataframe tbody tr th {\n",
       "        vertical-align: top;\n",
       "    }\n",
       "\n",
       "    .dataframe thead th {\n",
       "        text-align: right;\n",
       "    }\n",
       "</style>\n",
       "<table border=\"1\" class=\"dataframe\">\n",
       "  <thead>\n",
       "    <tr style=\"text-align: right;\">\n",
       "      <th></th>\n",
       "      <th>Brand</th>\n",
       "      <th>year</th>\n",
       "      <th>Average Urban Consumption</th>\n",
       "      <th>Average extra-urban consumption</th>\n",
       "      <th>Average mixed consumption</th>\n",
       "      <th>Average of CO2 (g per km)</th>\n",
       "      <th>Average CO type I</th>\n",
       "    </tr>\n",
       "    <tr>\n",
       "      <th>models</th>\n",
       "      <th></th>\n",
       "      <th></th>\n",
       "      <th></th>\n",
       "      <th></th>\n",
       "      <th></th>\n",
       "      <th></th>\n",
       "      <th></th>\n",
       "    </tr>\n",
       "  </thead>\n",
       "  <tbody>\n",
       "    <tr>\n",
       "      <th>Ford Fiesta Sedan 2012</th>\n",
       "      <td>Ford</td>\n",
       "      <td>2012</td>\n",
       "      <td>4.900000</td>\n",
       "      <td>3.600</td>\n",
       "      <td>4.100000</td>\n",
       "      <td>107.000000</td>\n",
       "      <td>0,421</td>\n",
       "    </tr>\n",
       "    <tr>\n",
       "      <th>FIAT 500 Convertible 2012</th>\n",
       "      <td>FIAT</td>\n",
       "      <td>2012</td>\n",
       "      <td>5.725000</td>\n",
       "      <td>4.175</td>\n",
       "      <td>4.775000</td>\n",
       "      <td>111.000000</td>\n",
       "      <td>0,318</td>\n",
       "    </tr>\n",
       "    <tr>\n",
       "      <th>Chevrolet Corvette ZR1 2012</th>\n",
       "      <td>Chevrolet</td>\n",
       "      <td>2012</td>\n",
       "      <td>19.000000</td>\n",
       "      <td>8.900</td>\n",
       "      <td>12.600000</td>\n",
       "      <td>293.000000</td>\n",
       "      <td>0,508</td>\n",
       "    </tr>\n",
       "    <tr>\n",
       "      <th>Lamborghini Gallardo LP 570-4 Superleggera 2012</th>\n",
       "      <td>Lamborghini</td>\n",
       "      <td>2012</td>\n",
       "      <td>21.406667</td>\n",
       "      <td>9.860</td>\n",
       "      <td>14.086667</td>\n",
       "      <td>337.133333</td>\n",
       "      <td>0</td>\n",
       "    </tr>\n",
       "    <tr>\n",
       "      <th>Honda Accord Coupe 2012</th>\n",
       "      <td>Honda</td>\n",
       "      <td>2012</td>\n",
       "      <td>6.900000</td>\n",
       "      <td>4.500</td>\n",
       "      <td>5.400000</td>\n",
       "      <td>141.000000</td>\n",
       "      <td>0,215</td>\n",
       "    </tr>\n",
       "  </tbody>\n",
       "</table>\n",
       "</div>"
      ],
      "text/plain": [
       "                                                       Brand  year  \\\n",
       "models                                                               \n",
       "Ford Fiesta Sedan 2012                                  Ford  2012   \n",
       "FIAT 500 Convertible 2012                               FIAT  2012   \n",
       "Chevrolet Corvette ZR1 2012                        Chevrolet  2012   \n",
       "Lamborghini Gallardo LP 570-4 Superleggera 2012  Lamborghini  2012   \n",
       "Honda Accord Coupe 2012                                Honda  2012   \n",
       "\n",
       "                                                 Average Urban Consumption  \\\n",
       "models                                                                       \n",
       "Ford Fiesta Sedan 2012                                            4.900000   \n",
       "FIAT 500 Convertible 2012                                         5.725000   \n",
       "Chevrolet Corvette ZR1 2012                                      19.000000   \n",
       "Lamborghini Gallardo LP 570-4 Superleggera 2012                  21.406667   \n",
       "Honda Accord Coupe 2012                                           6.900000   \n",
       "\n",
       "                                                 Average extra-urban consumption  \\\n",
       "models                                                                             \n",
       "Ford Fiesta Sedan 2012                                                     3.600   \n",
       "FIAT 500 Convertible 2012                                                  4.175   \n",
       "Chevrolet Corvette ZR1 2012                                                8.900   \n",
       "Lamborghini Gallardo LP 570-4 Superleggera 2012                            9.860   \n",
       "Honda Accord Coupe 2012                                                    4.500   \n",
       "\n",
       "                                                 Average mixed consumption  \\\n",
       "models                                                                       \n",
       "Ford Fiesta Sedan 2012                                            4.100000   \n",
       "FIAT 500 Convertible 2012                                         4.775000   \n",
       "Chevrolet Corvette ZR1 2012                                      12.600000   \n",
       "Lamborghini Gallardo LP 570-4 Superleggera 2012                  14.086667   \n",
       "Honda Accord Coupe 2012                                           5.400000   \n",
       "\n",
       "                                                 Average of CO2 (g per km)  \\\n",
       "models                                                                       \n",
       "Ford Fiesta Sedan 2012                                          107.000000   \n",
       "FIAT 500 Convertible 2012                                       111.000000   \n",
       "Chevrolet Corvette ZR1 2012                                     293.000000   \n",
       "Lamborghini Gallardo LP 570-4 Superleggera 2012                 337.133333   \n",
       "Honda Accord Coupe 2012                                         141.000000   \n",
       "\n",
       "                                                Average CO type I  \n",
       "models                                                             \n",
       "Ford Fiesta Sedan 2012                                      0,421  \n",
       "FIAT 500 Convertible 2012                                   0,318  \n",
       "Chevrolet Corvette ZR1 2012                                 0,508  \n",
       "Lamborghini Gallardo LP 570-4 Superleggera 2012                 0  \n",
       "Honda Accord Coupe 2012                                     0,215  "
      ]
     },
     "execution_count": 3,
     "metadata": {},
     "output_type": "execute_result"
    }
   ],
   "source": [
    "cars_path = \"../datasets/car_models_footprint.csv\"\n",
    "car_models = pd.read_csv(cars_path, sep=\";\", index_col=[0])\n",
    "car_models.head(5)"
   ]
  },
  {
   "cell_type": "code",
   "execution_count": 4,
   "id": "89879c6a",
   "metadata": {},
   "outputs": [
    {
     "name": "stdout",
     "output_type": "stream",
     "text": [
      "Number of car models : 100 | columns : 6\n"
     ]
    }
   ],
   "source": [
    "numbers_rows = car_models.shape[0]\n",
    "numbers_columns = car_models.shape[1] - 1\n",
    "print(f'Number of car models : {numbers_rows} | columns : {numbers_columns}')"
   ]
  },
  {
   "cell_type": "code",
   "execution_count": 5,
   "id": "319187d0",
   "metadata": {},
   "outputs": [
    {
     "name": "stdout",
     "output_type": "stream",
     "text": [
      "The perc. of empty values\n",
      "Brand : 0.0 %\n",
      "year : 0.0 %\n",
      "Average Urban Consumption : 25.0 %\n",
      "Average extra-urban consumption : 25.0 %\n",
      "Average mixed consumption : 25.0 %\n",
      "Average of CO2 (g per km) : 0.0 %\n",
      "Average CO type I : 25.0 %\n"
     ]
    }
   ],
   "source": [
    "# Missing values\n",
    "na_colums = []\n",
    "print('The perc. of empty values')\n",
    "for column_name in car_models:\n",
    "    percentage_na = car_models[column_name].isna().mean() * 100\n",
    "    print(f'{column_name} : {np.round(percentage_na)} %')\n",
    "    if percentage_na > 0:\n",
    "        na_colums.append(column_name)"
   ]
  },
  {
   "cell_type": "code",
   "execution_count": 6,
   "id": "809f8be6",
   "metadata": {},
   "outputs": [
    {
     "data": {
      "text/plain": [
       "Brand                               object\n",
       "year                                 int64\n",
       "Average Urban Consumption          float64\n",
       "Average extra-urban consumption    float64\n",
       "Average mixed consumption          float64\n",
       "Average of CO2 (g per km)          float64\n",
       "Average CO type I                   object\n",
       "dtype: object"
      ]
     },
     "execution_count": 6,
     "metadata": {},
     "output_type": "execute_result"
    }
   ],
   "source": [
    "# Column Types\n",
    "car_models.dtypes"
   ]
  },
  {
   "cell_type": "code",
   "execution_count": 7,
   "id": "b8d4dffb",
   "metadata": {},
   "outputs": [],
   "source": [
    "car_models['Average CO type I'] = car_models['Average CO type I'].str.replace(',', '.').astype(float)"
   ]
  },
  {
   "cell_type": "code",
   "execution_count": 8,
   "id": "aa31c472",
   "metadata": {},
   "outputs": [
    {
     "data": {
      "text/plain": [
       "Brand                               object\n",
       "year                                 int64\n",
       "Average Urban Consumption          float64\n",
       "Average extra-urban consumption    float64\n",
       "Average mixed consumption          float64\n",
       "Average of CO2 (g per km)          float64\n",
       "Average CO type I                  float64\n",
       "dtype: object"
      ]
     },
     "execution_count": 8,
     "metadata": {},
     "output_type": "execute_result"
    }
   ],
   "source": [
    "# Column Types\n",
    "car_models.dtypes"
   ]
  },
  {
   "cell_type": "code",
   "execution_count": 9,
   "id": "160f93e4",
   "metadata": {},
   "outputs": [
    {
     "data": {
      "text/plain": [
       "['Average Urban Consumption',\n",
       " 'Average extra-urban consumption',\n",
       " 'Average mixed consumption',\n",
       " 'Average CO type I']"
      ]
     },
     "execution_count": 9,
     "metadata": {},
     "output_type": "execute_result"
    }
   ],
   "source": [
    "# Variables with missing values\n",
    "na_colums"
   ]
  },
  {
   "cell_type": "code",
   "execution_count": 10,
   "id": "428977e8",
   "metadata": {},
   "outputs": [],
   "source": [
    "# Mean imputation\n",
    "for column in na_colums :\n",
    "    car_models[column] = car_models[column].fillna(value=car_models[column].mean())"
   ]
  },
  {
   "cell_type": "code",
   "execution_count": 11,
   "id": "065d8bb1",
   "metadata": {},
   "outputs": [
    {
     "name": "stdout",
     "output_type": "stream",
     "text": [
      "The perc. of empty values\n",
      "Brand : 0.0 %\n",
      "year : 0.0 %\n",
      "Average Urban Consumption : 0.0 %\n",
      "Average extra-urban consumption : 0.0 %\n",
      "Average mixed consumption : 0.0 %\n",
      "Average of CO2 (g per km) : 0.0 %\n",
      "Average CO type I : 0.0 %\n"
     ]
    }
   ],
   "source": [
    "# na values\n",
    "print('The perc. of empty values')\n",
    "for column_name in car_models:\n",
    "    percentage_na = car_models[column_name].isna().mean() * 100\n",
    "    print(f'{column_name} : {np.round(percentage_na)} %')"
   ]
  },
  {
   "cell_type": "code",
   "execution_count": 12,
   "id": "67857ed9",
   "metadata": {},
   "outputs": [],
   "source": [
    "# Save data\n",
    "car_models.to_csv('../group_00095_shared_workspace/car_models.csv')"
   ]
  },
  {
   "cell_type": "code",
   "execution_count": null,
   "id": "9fa83586",
   "metadata": {},
   "outputs": [],
   "source": []
  }
 ],
 "metadata": {
  "kernelspec": {
   "display_name": "Python 3 (ipykernel)",
   "language": "python",
   "name": "python3"
  },
  "language_info": {
   "codemirror_mode": {
    "name": "ipython",
    "version": 3
   },
   "file_extension": ".py",
   "mimetype": "text/x-python",
   "name": "python",
   "nbconvert_exporter": "python",
   "pygments_lexer": "ipython3",
   "version": "3.8.12"
  }
 },
 "nbformat": 4,
 "nbformat_minor": 5
}
