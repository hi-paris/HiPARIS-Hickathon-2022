{
 "cells": [
  {
   "cell_type": "code",
   "execution_count": null,
   "id": "5fef0a6e",
   "metadata": {},
   "outputs": [],
   "source": [
    "IoU"
   ]
  },
  {
   "cell_type": "code",
   "execution_count": null,
   "id": "c27793c6",
   "metadata": {},
   "outputs": [],
   "source": [
    "def _interval_overlap(interval_a, interval_b):\n",
    "        x1, x2 = interval_a\n",
    "        x3, x4 = interval_b\n",
    "        if x3 < x1:\n",
    "            if x4 < x1:\n",
    "                return 0\n",
    "            else:\n",
    "                return min(x2,x4) - x1\n",
    "        else:\n",
    "            if x2 < x3:\n",
    "                 return 0\n",
    "            else:\n",
    "                return min(x2,x4) - x3\n",
    "            \n",
    "def IoU(box1, box2): ##IoU ##xmin xmax ymin ymax \n",
    "    intersect_w = _interval_overlap([box1[0], box1[1]], [box2[0], box2[1]])\n",
    "    intersect_h = _interval_overlap([box1[2], box1[3]], [box2[2], box2[3]])\n",
    "    intersect = intersect_w * intersect_h\n",
    "    w1, h1 = box1.xmax-box1.xmin, box1.ymax-box1.ymin\n",
    "    w2, h2 = box2.xmax-box2.xmin, box2.ymax-box2.ymin\n",
    "    union = w1*h1 + w2*h2 - intersect\n",
    "    return float(intersect) / union\n",
    "\n",
    "\n",
    "def Metric(delim, y, delim_pred, y_pred):\n",
    "    n  = delim.shape[1]-1\n",
    "    res = 0\n",
    "    for i in range(n):\n",
    "        res += 0.7 * (1-IoU(delim[i,:],delim_pred[i,:])) + 0.3 * abs(y[i] - y_pred[i])/y[i]\n",
    "        print(res)\n",
    "    return res/n"
   ]
  }
 ],
 "metadata": {
  "kernelspec": {
   "display_name": "Python 3 (ipykernel)",
   "language": "python",
   "name": "python3"
  },
  "language_info": {
   "codemirror_mode": {
    "name": "ipython",
    "version": 3
   },
   "file_extension": ".py",
   "mimetype": "text/x-python",
   "name": "python",
   "nbconvert_exporter": "python",
   "pygments_lexer": "ipython3",
   "version": "3.8.12"
  }
 },
 "nbformat": 4,
 "nbformat_minor": 5
}
