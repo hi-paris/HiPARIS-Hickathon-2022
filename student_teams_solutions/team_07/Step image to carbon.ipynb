{
  "nbformat": 4,
  "nbformat_minor": 0,
  "metadata": {
    "colab": {
      "name": "Step_2.ipynb",
      "provenance": [],
      "collapsed_sections": []
    },
    "kernelspec": {
      "name": "python3",
      "display_name": "Python 3"
    },
    "language_info": {
      "name": "python"
    },
    "accelerator": "GPU"
  },
  "cells": [
    {
      "cell_type": "code",
      "source": [
        "from google.colab import drive\n",
        "drive.mount('/content/drive')"
      ],
      "metadata": {
        "colab": {
          "base_uri": "https://localhost:8080/"
        },
        "id": "fcpVU6w4-wR6",
        "outputId": "2d8cf30a-047c-4c4f-cd2b-8d05fbedf09e"
      },
      "execution_count": 1,
      "outputs": [
        {
          "output_type": "stream",
          "name": "stdout",
          "text": [
            "Drive already mounted at /content/drive; to attempt to forcibly remount, call drive.mount(\"/content/drive\", force_remount=True).\n"
          ]
        }
      ]
    },
    {
      "cell_type": "code",
      "execution_count": 2,
      "metadata": {
        "id": "i-8RvUnn9eEV"
      },
      "outputs": [],
      "source": [
        "# !cp  -r '/content/drive/MyDrive/Hackathon_HiGency/data/images_stanford' '/content'"
      ]
    },
    {
      "cell_type": "markdown",
      "source": [
        "## Librairies"
      ],
      "metadata": {
        "id": "0j1xghtq_c3h"
      }
    },
    {
      "cell_type": "code",
      "source": [
        "import pandas as pd\n",
        "import numpy as np\n",
        "from PIL import Image\n",
        "from PIL import ImageFile\n",
        "ImageFile.LOAD_TRUNCATED_IMAGES = True\n",
        "import matplotlib.pyplot as plt\n",
        "import matplotlib.patches as patches\n",
        "from tqdm import tqdm\n",
        "from tensorflow.keras.preprocessing import image\n",
        "from tensorflow.keras.applications.vgg16 import preprocess_input,decode_predictions\n",
        "import numpy as np\n",
        "from keras.applications.vgg16 import VGG16\n",
        "from sklearn.model_selection import train_test_split\n",
        "import tensorflow as tf\n",
        "import numpy as np\n",
        "from keras.applications.vgg16 import VGG16\n",
        "from sklearn.model_selection import train_test_split\n",
        "import tensorflow as tf\n",
        "from keras.preprocessing.image import ImageDataGenerator\n",
        "from keras.applications import densenet\n",
        "from keras.models import Sequential, Model, load_model\n",
        "from keras.layers import Conv2D, MaxPooling2D\n",
        "from keras.layers import Activation, Dropout, Flatten, Dense\n",
        "from keras.callbacks import EarlyStopping, ReduceLROnPlateau, ModelCheckpoint, Callback\n",
        "from keras import regularizers\n",
        "from keras import backend as K\n",
        "from tensorflow.keras.optimizers import Adam\n",
        "\n",
        "training = False"
      ],
      "metadata": {
        "id": "vk_w78kS_eeL"
      },
      "execution_count": 2,
      "outputs": []
    },
    {
      "cell_type": "markdown",
      "source": [
        "## Data"
      ],
      "metadata": {
        "id": "SNIo7KxB-T21"
      }
    },
    {
      "cell_type": "code",
      "source": [
        "img_width, img_height = 224, 224\n",
        "nb_train_samples = 6616\n",
        "nb_validation_samples = 1654\n",
        "epochs = 10\n",
        "batch_size = 32\n",
        "n_classes = 100"
      ],
      "metadata": {
        "id": "q8DOdtnG-lvp"
      },
      "execution_count": 3,
      "outputs": []
    },
    {
      "cell_type": "code",
      "source": [
        "if training:\n",
        "  data_stanford_df = pd.read_pickle(\"/content/drive/MyDrive/Hackathon_HiGency/data/data_stanford.pkl\")\n",
        "  data_stanford_df"
      ],
      "metadata": {
        "colab": {
          "base_uri": "https://localhost:8080/",
          "height": 467
        },
        "id": "CTOEhRBH-mLA",
        "outputId": "d59e083a-a108-41e8-9653-d4ad9978df0e"
      },
      "execution_count": 4,
      "outputs": [
        {
          "output_type": "execute_result",
          "data": {
            "text/html": [
              "\n",
              "  <div id=\"df-b97ec6db-4bdf-4368-b2ad-7215fe917d32\">\n",
              "    <div class=\"colab-df-container\">\n",
              "      <div>\n",
              "<style scoped>\n",
              "    .dataframe tbody tr th:only-of-type {\n",
              "        vertical-align: middle;\n",
              "    }\n",
              "\n",
              "    .dataframe tbody tr th {\n",
              "        vertical-align: top;\n",
              "    }\n",
              "\n",
              "    .dataframe thead th {\n",
              "        text-align: right;\n",
              "    }\n",
              "</style>\n",
              "<table border=\"1\" class=\"dataframe\">\n",
              "  <thead>\n",
              "    <tr style=\"text-align: right;\">\n",
              "      <th></th>\n",
              "      <th>im_name</th>\n",
              "      <th>x_min</th>\n",
              "      <th>y_min</th>\n",
              "      <th>x_max</th>\n",
              "      <th>y_max</th>\n",
              "      <th>class</th>\n",
              "      <th>models</th>\n",
              "      <th>in_original</th>\n",
              "      <th>width</th>\n",
              "      <th>height</th>\n",
              "    </tr>\n",
              "  </thead>\n",
              "  <tbody>\n",
              "    <tr>\n",
              "      <th>0</th>\n",
              "      <td>000001.jpg</td>\n",
              "      <td>112</td>\n",
              "      <td>7</td>\n",
              "      <td>853</td>\n",
              "      <td>717</td>\n",
              "      <td>car</td>\n",
              "      <td>AM General Hummer SUV 2000</td>\n",
              "      <td>True</td>\n",
              "      <td>1024.0</td>\n",
              "      <td>768.0</td>\n",
              "    </tr>\n",
              "    <tr>\n",
              "      <th>1</th>\n",
              "      <td>000002.jpg</td>\n",
              "      <td>48</td>\n",
              "      <td>24</td>\n",
              "      <td>441</td>\n",
              "      <td>202</td>\n",
              "      <td>car</td>\n",
              "      <td>AM General Hummer SUV 2000</td>\n",
              "      <td>True</td>\n",
              "      <td>460.0</td>\n",
              "      <td>219.0</td>\n",
              "    </tr>\n",
              "    <tr>\n",
              "      <th>2</th>\n",
              "      <td>000003.jpg</td>\n",
              "      <td>7</td>\n",
              "      <td>4</td>\n",
              "      <td>277</td>\n",
              "      <td>180</td>\n",
              "      <td>car</td>\n",
              "      <td>AM General Hummer SUV 2000</td>\n",
              "      <td>True</td>\n",
              "      <td>310.0</td>\n",
              "      <td>233.0</td>\n",
              "    </tr>\n",
              "    <tr>\n",
              "      <th>3</th>\n",
              "      <td>000004.jpg</td>\n",
              "      <td>33</td>\n",
              "      <td>50</td>\n",
              "      <td>197</td>\n",
              "      <td>150</td>\n",
              "      <td>car</td>\n",
              "      <td>AM General Hummer SUV 2000</td>\n",
              "      <td>True</td>\n",
              "      <td>250.0</td>\n",
              "      <td>188.0</td>\n",
              "    </tr>\n",
              "    <tr>\n",
              "      <th>4</th>\n",
              "      <td>000005.jpg</td>\n",
              "      <td>5</td>\n",
              "      <td>8</td>\n",
              "      <td>83</td>\n",
              "      <td>58</td>\n",
              "      <td>car</td>\n",
              "      <td>AM General Hummer SUV 2000</td>\n",
              "      <td>True</td>\n",
              "      <td>85.0</td>\n",
              "      <td>64.0</td>\n",
              "    </tr>\n",
              "    <tr>\n",
              "      <th>...</th>\n",
              "      <td>...</td>\n",
              "      <td>...</td>\n",
              "      <td>...</td>\n",
              "      <td>...</td>\n",
              "      <td>...</td>\n",
              "      <td>...</td>\n",
              "      <td>...</td>\n",
              "      <td>...</td>\n",
              "      <td>...</td>\n",
              "      <td>...</td>\n",
              "    </tr>\n",
              "    <tr>\n",
              "      <th>16180</th>\n",
              "      <td>016181.jpg</td>\n",
              "      <td>38</td>\n",
              "      <td>36</td>\n",
              "      <td>375</td>\n",
              "      <td>234</td>\n",
              "      <td>car</td>\n",
              "      <td>smart fortwo Convertible 2012</td>\n",
              "      <td>False</td>\n",
              "      <td>416.0</td>\n",
              "      <td>244.0</td>\n",
              "    </tr>\n",
              "    <tr>\n",
              "      <th>16181</th>\n",
              "      <td>016182.jpg</td>\n",
              "      <td>29</td>\n",
              "      <td>34</td>\n",
              "      <td>235</td>\n",
              "      <td>164</td>\n",
              "      <td>car</td>\n",
              "      <td>smart fortwo Convertible 2012</td>\n",
              "      <td>False</td>\n",
              "      <td>259.0</td>\n",
              "      <td>194.0</td>\n",
              "    </tr>\n",
              "    <tr>\n",
              "      <th>16182</th>\n",
              "      <td>016183.jpg</td>\n",
              "      <td>25</td>\n",
              "      <td>32</td>\n",
              "      <td>587</td>\n",
              "      <td>359</td>\n",
              "      <td>car</td>\n",
              "      <td>smart fortwo Convertible 2012</td>\n",
              "      <td>False</td>\n",
              "      <td>600.0</td>\n",
              "      <td>432.0</td>\n",
              "    </tr>\n",
              "    <tr>\n",
              "      <th>16183</th>\n",
              "      <td>016184.jpg</td>\n",
              "      <td>56</td>\n",
              "      <td>60</td>\n",
              "      <td>208</td>\n",
              "      <td>186</td>\n",
              "      <td>car</td>\n",
              "      <td>smart fortwo Convertible 2012</td>\n",
              "      <td>False</td>\n",
              "      <td>259.0</td>\n",
              "      <td>194.0</td>\n",
              "    </tr>\n",
              "    <tr>\n",
              "      <th>16184</th>\n",
              "      <td>016185.jpg</td>\n",
              "      <td>1</td>\n",
              "      <td>1</td>\n",
              "      <td>200</td>\n",
              "      <td>131</td>\n",
              "      <td>car</td>\n",
              "      <td>smart fortwo Convertible 2012</td>\n",
              "      <td>False</td>\n",
              "      <td>200.0</td>\n",
              "      <td>131.0</td>\n",
              "    </tr>\n",
              "  </tbody>\n",
              "</table>\n",
              "<p>16185 rows × 10 columns</p>\n",
              "</div>\n",
              "      <button class=\"colab-df-convert\" onclick=\"convertToInteractive('df-b97ec6db-4bdf-4368-b2ad-7215fe917d32')\"\n",
              "              title=\"Convert this dataframe to an interactive table.\"\n",
              "              style=\"display:none;\">\n",
              "        \n",
              "  <svg xmlns=\"http://www.w3.org/2000/svg\" height=\"24px\"viewBox=\"0 0 24 24\"\n",
              "       width=\"24px\">\n",
              "    <path d=\"M0 0h24v24H0V0z\" fill=\"none\"/>\n",
              "    <path d=\"M18.56 5.44l.94 2.06.94-2.06 2.06-.94-2.06-.94-.94-2.06-.94 2.06-2.06.94zm-11 1L8.5 8.5l.94-2.06 2.06-.94-2.06-.94L8.5 2.5l-.94 2.06-2.06.94zm10 10l.94 2.06.94-2.06 2.06-.94-2.06-.94-.94-2.06-.94 2.06-2.06.94z\"/><path d=\"M17.41 7.96l-1.37-1.37c-.4-.4-.92-.59-1.43-.59-.52 0-1.04.2-1.43.59L10.3 9.45l-7.72 7.72c-.78.78-.78 2.05 0 2.83L4 21.41c.39.39.9.59 1.41.59.51 0 1.02-.2 1.41-.59l7.78-7.78 2.81-2.81c.8-.78.8-2.07 0-2.86zM5.41 20L4 18.59l7.72-7.72 1.47 1.35L5.41 20z\"/>\n",
              "  </svg>\n",
              "      </button>\n",
              "      \n",
              "  <style>\n",
              "    .colab-df-container {\n",
              "      display:flex;\n",
              "      flex-wrap:wrap;\n",
              "      gap: 12px;\n",
              "    }\n",
              "\n",
              "    .colab-df-convert {\n",
              "      background-color: #E8F0FE;\n",
              "      border: none;\n",
              "      border-radius: 50%;\n",
              "      cursor: pointer;\n",
              "      display: none;\n",
              "      fill: #1967D2;\n",
              "      height: 32px;\n",
              "      padding: 0 0 0 0;\n",
              "      width: 32px;\n",
              "    }\n",
              "\n",
              "    .colab-df-convert:hover {\n",
              "      background-color: #E2EBFA;\n",
              "      box-shadow: 0px 1px 2px rgba(60, 64, 67, 0.3), 0px 1px 3px 1px rgba(60, 64, 67, 0.15);\n",
              "      fill: #174EA6;\n",
              "    }\n",
              "\n",
              "    [theme=dark] .colab-df-convert {\n",
              "      background-color: #3B4455;\n",
              "      fill: #D2E3FC;\n",
              "    }\n",
              "\n",
              "    [theme=dark] .colab-df-convert:hover {\n",
              "      background-color: #434B5C;\n",
              "      box-shadow: 0px 1px 3px 1px rgba(0, 0, 0, 0.15);\n",
              "      filter: drop-shadow(0px 1px 2px rgba(0, 0, 0, 0.3));\n",
              "      fill: #FFFFFF;\n",
              "    }\n",
              "  </style>\n",
              "\n",
              "      <script>\n",
              "        const buttonEl =\n",
              "          document.querySelector('#df-b97ec6db-4bdf-4368-b2ad-7215fe917d32 button.colab-df-convert');\n",
              "        buttonEl.style.display =\n",
              "          google.colab.kernel.accessAllowed ? 'block' : 'none';\n",
              "\n",
              "        async function convertToInteractive(key) {\n",
              "          const element = document.querySelector('#df-b97ec6db-4bdf-4368-b2ad-7215fe917d32');\n",
              "          const dataTable =\n",
              "            await google.colab.kernel.invokeFunction('convertToInteractive',\n",
              "                                                     [key], {});\n",
              "          if (!dataTable) return;\n",
              "\n",
              "          const docLinkHtml = 'Like what you see? Visit the ' +\n",
              "            '<a target=\"_blank\" href=https://colab.research.google.com/notebooks/data_table.ipynb>data table notebook</a>'\n",
              "            + ' to learn more about interactive tables.';\n",
              "          element.innerHTML = '';\n",
              "          dataTable['output_type'] = 'display_data';\n",
              "          await google.colab.output.renderOutput(dataTable, element);\n",
              "          const docLink = document.createElement('div');\n",
              "          docLink.innerHTML = docLinkHtml;\n",
              "          element.appendChild(docLink);\n",
              "        }\n",
              "      </script>\n",
              "    </div>\n",
              "  </div>\n",
              "  "
            ],
            "text/plain": [
              "          im_name  x_min  y_min  x_max  y_max class  \\\n",
              "0      000001.jpg    112      7    853    717   car   \n",
              "1      000002.jpg     48     24    441    202   car   \n",
              "2      000003.jpg      7      4    277    180   car   \n",
              "3      000004.jpg     33     50    197    150   car   \n",
              "4      000005.jpg      5      8     83     58   car   \n",
              "...           ...    ...    ...    ...    ...   ...   \n",
              "16180  016181.jpg     38     36    375    234   car   \n",
              "16181  016182.jpg     29     34    235    164   car   \n",
              "16182  016183.jpg     25     32    587    359   car   \n",
              "16183  016184.jpg     56     60    208    186   car   \n",
              "16184  016185.jpg      1      1    200    131   car   \n",
              "\n",
              "                              models  in_original   width  height  \n",
              "0         AM General Hummer SUV 2000         True  1024.0   768.0  \n",
              "1         AM General Hummer SUV 2000         True   460.0   219.0  \n",
              "2         AM General Hummer SUV 2000         True   310.0   233.0  \n",
              "3         AM General Hummer SUV 2000         True   250.0   188.0  \n",
              "4         AM General Hummer SUV 2000         True    85.0    64.0  \n",
              "...                              ...          ...     ...     ...  \n",
              "16180  smart fortwo Convertible 2012        False   416.0   244.0  \n",
              "16181  smart fortwo Convertible 2012        False   259.0   194.0  \n",
              "16182  smart fortwo Convertible 2012        False   600.0   432.0  \n",
              "16183  smart fortwo Convertible 2012        False   259.0   194.0  \n",
              "16184  smart fortwo Convertible 2012        False   200.0   131.0  \n",
              "\n",
              "[16185 rows x 10 columns]"
            ]
          },
          "metadata": {},
          "execution_count": 4
        }
      ]
    },
    {
      "cell_type": "code",
      "source": [
        "if training:\n",
        "  df_train = data_stanford_df[data_stanford_df['in_original']==True]\n",
        "  df_train = df_train.drop(columns=['x_min',\t'y_min',\t'x_max',\t'y_max',\t'class', 'in_original','width',\t'height'])\n",
        "  df_train =df_train.rename(columns={\"im_name\": \"filename\"})\n",
        "  train_df, test_df = train_test_split(df_train, test_size=0.2)"
      ],
      "metadata": {
        "id": "eHLOqSA2-fl7"
      },
      "execution_count": 5,
      "outputs": []
    },
    {
      "cell_type": "code",
      "source": [
        "# Load the the carbon models\n",
        "df_carbon = pd.read_csv('/content/drive/MyDrive/Hackathon_HiGency/data/car_models_footprint.csv', sep=';')\n",
        "df_carbon"
      ],
      "metadata": {
        "colab": {
          "base_uri": "https://localhost:8080/",
          "height": 745
        },
        "id": "hsa3BkusQZnR",
        "outputId": "d9db0424-e723-442c-e0ff-af14380e2b61"
      },
      "execution_count": 6,
      "outputs": [
        {
          "output_type": "execute_result",
          "data": {
            "text/html": [
              "\n",
              "  <div id=\"df-e366d20f-187a-4674-a0de-8a98f530538f\">\n",
              "    <div class=\"colab-df-container\">\n",
              "      <div>\n",
              "<style scoped>\n",
              "    .dataframe tbody tr th:only-of-type {\n",
              "        vertical-align: middle;\n",
              "    }\n",
              "\n",
              "    .dataframe tbody tr th {\n",
              "        vertical-align: top;\n",
              "    }\n",
              "\n",
              "    .dataframe thead th {\n",
              "        text-align: right;\n",
              "    }\n",
              "</style>\n",
              "<table border=\"1\" class=\"dataframe\">\n",
              "  <thead>\n",
              "    <tr style=\"text-align: right;\">\n",
              "      <th></th>\n",
              "      <th>models</th>\n",
              "      <th>Brand</th>\n",
              "      <th>year</th>\n",
              "      <th>Average Urban Consumption</th>\n",
              "      <th>Average extra-urban consumption</th>\n",
              "      <th>Average mixed consumption</th>\n",
              "      <th>Average of CO2 (g per km)</th>\n",
              "      <th>Average CO type I</th>\n",
              "    </tr>\n",
              "  </thead>\n",
              "  <tbody>\n",
              "    <tr>\n",
              "      <th>0</th>\n",
              "      <td>Ford Fiesta Sedan 2012</td>\n",
              "      <td>Ford</td>\n",
              "      <td>2012</td>\n",
              "      <td>4.900000</td>\n",
              "      <td>3.600</td>\n",
              "      <td>4.100000</td>\n",
              "      <td>107.000000</td>\n",
              "      <td>0,421</td>\n",
              "    </tr>\n",
              "    <tr>\n",
              "      <th>1</th>\n",
              "      <td>FIAT 500 Convertible 2012</td>\n",
              "      <td>FIAT</td>\n",
              "      <td>2012</td>\n",
              "      <td>5.725000</td>\n",
              "      <td>4.175</td>\n",
              "      <td>4.775000</td>\n",
              "      <td>111.000000</td>\n",
              "      <td>0,318</td>\n",
              "    </tr>\n",
              "    <tr>\n",
              "      <th>2</th>\n",
              "      <td>Chevrolet Corvette ZR1 2012</td>\n",
              "      <td>Chevrolet</td>\n",
              "      <td>2012</td>\n",
              "      <td>19.000000</td>\n",
              "      <td>8.900</td>\n",
              "      <td>12.600000</td>\n",
              "      <td>293.000000</td>\n",
              "      <td>0,508</td>\n",
              "    </tr>\n",
              "    <tr>\n",
              "      <th>3</th>\n",
              "      <td>Lamborghini Gallardo LP 570-4 Superleggera 2012</td>\n",
              "      <td>Lamborghini</td>\n",
              "      <td>2012</td>\n",
              "      <td>21.406667</td>\n",
              "      <td>9.860</td>\n",
              "      <td>14.086667</td>\n",
              "      <td>337.133333</td>\n",
              "      <td>0</td>\n",
              "    </tr>\n",
              "    <tr>\n",
              "      <th>4</th>\n",
              "      <td>Honda Accord Coupe 2012</td>\n",
              "      <td>Honda</td>\n",
              "      <td>2012</td>\n",
              "      <td>6.900000</td>\n",
              "      <td>4.500</td>\n",
              "      <td>5.400000</td>\n",
              "      <td>141.000000</td>\n",
              "      <td>0,215</td>\n",
              "    </tr>\n",
              "    <tr>\n",
              "      <th>...</th>\n",
              "      <td>...</td>\n",
              "      <td>...</td>\n",
              "      <td>...</td>\n",
              "      <td>...</td>\n",
              "      <td>...</td>\n",
              "      <td>...</td>\n",
              "      <td>...</td>\n",
              "      <td>...</td>\n",
              "    </tr>\n",
              "    <tr>\n",
              "      <th>95</th>\n",
              "      <td>Rolls-Royce Phantom Sedan 2012</td>\n",
              "      <td>Rolls-Royce</td>\n",
              "      <td>2012</td>\n",
              "      <td>NaN</td>\n",
              "      <td>NaN</td>\n",
              "      <td>NaN</td>\n",
              "      <td>113.000000</td>\n",
              "      <td>NaN</td>\n",
              "    </tr>\n",
              "    <tr>\n",
              "      <th>96</th>\n",
              "      <td>Rolls-Royce Phantom Drophead Coupe Convertible...</td>\n",
              "      <td>Rolls-Royce</td>\n",
              "      <td>2012</td>\n",
              "      <td>NaN</td>\n",
              "      <td>NaN</td>\n",
              "      <td>NaN</td>\n",
              "      <td>121.000000</td>\n",
              "      <td>NaN</td>\n",
              "    </tr>\n",
              "    <tr>\n",
              "      <th>97</th>\n",
              "      <td>Scion xD Hatchback 2012</td>\n",
              "      <td>Scion</td>\n",
              "      <td>2012</td>\n",
              "      <td>NaN</td>\n",
              "      <td>NaN</td>\n",
              "      <td>NaN</td>\n",
              "      <td>208.000000</td>\n",
              "      <td>NaN</td>\n",
              "    </tr>\n",
              "    <tr>\n",
              "      <th>98</th>\n",
              "      <td>Spyker C8 Coupe 2009</td>\n",
              "      <td>Spyker</td>\n",
              "      <td>2009</td>\n",
              "      <td>NaN</td>\n",
              "      <td>NaN</td>\n",
              "      <td>NaN</td>\n",
              "      <td>131.000000</td>\n",
              "      <td>NaN</td>\n",
              "    </tr>\n",
              "    <tr>\n",
              "      <th>99</th>\n",
              "      <td>Volvo 240 Sedan 1993</td>\n",
              "      <td>Volvo</td>\n",
              "      <td>1993</td>\n",
              "      <td>NaN</td>\n",
              "      <td>NaN</td>\n",
              "      <td>NaN</td>\n",
              "      <td>262.000000</td>\n",
              "      <td>NaN</td>\n",
              "    </tr>\n",
              "  </tbody>\n",
              "</table>\n",
              "<p>100 rows × 8 columns</p>\n",
              "</div>\n",
              "      <button class=\"colab-df-convert\" onclick=\"convertToInteractive('df-e366d20f-187a-4674-a0de-8a98f530538f')\"\n",
              "              title=\"Convert this dataframe to an interactive table.\"\n",
              "              style=\"display:none;\">\n",
              "        \n",
              "  <svg xmlns=\"http://www.w3.org/2000/svg\" height=\"24px\"viewBox=\"0 0 24 24\"\n",
              "       width=\"24px\">\n",
              "    <path d=\"M0 0h24v24H0V0z\" fill=\"none\"/>\n",
              "    <path d=\"M18.56 5.44l.94 2.06.94-2.06 2.06-.94-2.06-.94-.94-2.06-.94 2.06-2.06.94zm-11 1L8.5 8.5l.94-2.06 2.06-.94-2.06-.94L8.5 2.5l-.94 2.06-2.06.94zm10 10l.94 2.06.94-2.06 2.06-.94-2.06-.94-.94-2.06-.94 2.06-2.06.94z\"/><path d=\"M17.41 7.96l-1.37-1.37c-.4-.4-.92-.59-1.43-.59-.52 0-1.04.2-1.43.59L10.3 9.45l-7.72 7.72c-.78.78-.78 2.05 0 2.83L4 21.41c.39.39.9.59 1.41.59.51 0 1.02-.2 1.41-.59l7.78-7.78 2.81-2.81c.8-.78.8-2.07 0-2.86zM5.41 20L4 18.59l7.72-7.72 1.47 1.35L5.41 20z\"/>\n",
              "  </svg>\n",
              "      </button>\n",
              "      \n",
              "  <style>\n",
              "    .colab-df-container {\n",
              "      display:flex;\n",
              "      flex-wrap:wrap;\n",
              "      gap: 12px;\n",
              "    }\n",
              "\n",
              "    .colab-df-convert {\n",
              "      background-color: #E8F0FE;\n",
              "      border: none;\n",
              "      border-radius: 50%;\n",
              "      cursor: pointer;\n",
              "      display: none;\n",
              "      fill: #1967D2;\n",
              "      height: 32px;\n",
              "      padding: 0 0 0 0;\n",
              "      width: 32px;\n",
              "    }\n",
              "\n",
              "    .colab-df-convert:hover {\n",
              "      background-color: #E2EBFA;\n",
              "      box-shadow: 0px 1px 2px rgba(60, 64, 67, 0.3), 0px 1px 3px 1px rgba(60, 64, 67, 0.15);\n",
              "      fill: #174EA6;\n",
              "    }\n",
              "\n",
              "    [theme=dark] .colab-df-convert {\n",
              "      background-color: #3B4455;\n",
              "      fill: #D2E3FC;\n",
              "    }\n",
              "\n",
              "    [theme=dark] .colab-df-convert:hover {\n",
              "      background-color: #434B5C;\n",
              "      box-shadow: 0px 1px 3px 1px rgba(0, 0, 0, 0.15);\n",
              "      filter: drop-shadow(0px 1px 2px rgba(0, 0, 0, 0.3));\n",
              "      fill: #FFFFFF;\n",
              "    }\n",
              "  </style>\n",
              "\n",
              "      <script>\n",
              "        const buttonEl =\n",
              "          document.querySelector('#df-e366d20f-187a-4674-a0de-8a98f530538f button.colab-df-convert');\n",
              "        buttonEl.style.display =\n",
              "          google.colab.kernel.accessAllowed ? 'block' : 'none';\n",
              "\n",
              "        async function convertToInteractive(key) {\n",
              "          const element = document.querySelector('#df-e366d20f-187a-4674-a0de-8a98f530538f');\n",
              "          const dataTable =\n",
              "            await google.colab.kernel.invokeFunction('convertToInteractive',\n",
              "                                                     [key], {});\n",
              "          if (!dataTable) return;\n",
              "\n",
              "          const docLinkHtml = 'Like what you see? Visit the ' +\n",
              "            '<a target=\"_blank\" href=https://colab.research.google.com/notebooks/data_table.ipynb>data table notebook</a>'\n",
              "            + ' to learn more about interactive tables.';\n",
              "          element.innerHTML = '';\n",
              "          dataTable['output_type'] = 'display_data';\n",
              "          await google.colab.output.renderOutput(dataTable, element);\n",
              "          const docLink = document.createElement('div');\n",
              "          docLink.innerHTML = docLinkHtml;\n",
              "          element.appendChild(docLink);\n",
              "        }\n",
              "      </script>\n",
              "    </div>\n",
              "  </div>\n",
              "  "
            ],
            "text/plain": [
              "                                               models        Brand  year  \\\n",
              "0                              Ford Fiesta Sedan 2012         Ford  2012   \n",
              "1                           FIAT 500 Convertible 2012         FIAT  2012   \n",
              "2                         Chevrolet Corvette ZR1 2012    Chevrolet  2012   \n",
              "3     Lamborghini Gallardo LP 570-4 Superleggera 2012  Lamborghini  2012   \n",
              "4                             Honda Accord Coupe 2012        Honda  2012   \n",
              "..                                                ...          ...   ...   \n",
              "95                     Rolls-Royce Phantom Sedan 2012  Rolls-Royce  2012   \n",
              "96  Rolls-Royce Phantom Drophead Coupe Convertible...  Rolls-Royce  2012   \n",
              "97                            Scion xD Hatchback 2012        Scion  2012   \n",
              "98                               Spyker C8 Coupe 2009       Spyker  2009   \n",
              "99                               Volvo 240 Sedan 1993        Volvo  1993   \n",
              "\n",
              "    Average Urban Consumption  Average extra-urban consumption  \\\n",
              "0                    4.900000                            3.600   \n",
              "1                    5.725000                            4.175   \n",
              "2                   19.000000                            8.900   \n",
              "3                   21.406667                            9.860   \n",
              "4                    6.900000                            4.500   \n",
              "..                        ...                              ...   \n",
              "95                        NaN                              NaN   \n",
              "96                        NaN                              NaN   \n",
              "97                        NaN                              NaN   \n",
              "98                        NaN                              NaN   \n",
              "99                        NaN                              NaN   \n",
              "\n",
              "    Average mixed consumption  Average of CO2 (g per km) Average CO type I  \n",
              "0                    4.100000                 107.000000             0,421  \n",
              "1                    4.775000                 111.000000             0,318  \n",
              "2                   12.600000                 293.000000             0,508  \n",
              "3                   14.086667                 337.133333                 0  \n",
              "4                    5.400000                 141.000000             0,215  \n",
              "..                        ...                        ...               ...  \n",
              "95                        NaN                 113.000000               NaN  \n",
              "96                        NaN                 121.000000               NaN  \n",
              "97                        NaN                 208.000000               NaN  \n",
              "98                        NaN                 131.000000               NaN  \n",
              "99                        NaN                 262.000000               NaN  \n",
              "\n",
              "[100 rows x 8 columns]"
            ]
          },
          "metadata": {},
          "execution_count": 6
        }
      ]
    },
    {
      "cell_type": "code",
      "source": [
        "if training:\n",
        "  train_df['class'] = train_df['models'].apply(lambda x : df_carbon[df_carbon['models']==x]['Average of CO2 (g per km)'].values[0])\n",
        "  test_df['class'] = test_df['models'].apply(lambda x : df_carbon[df_carbon['models']==x]['Average of CO2 (g per km)'].values[0])\n",
        "  train_df"
      ],
      "metadata": {
        "id": "IOLLlcRFQdaD"
      },
      "execution_count": 7,
      "outputs": []
    },
    {
      "cell_type": "code",
      "source": [
        "if training:\n",
        "  %cd '/content/drive/MyDrive/Hackathon_HiGency/data/images_stanford'\n",
        "  train_datagen = ImageDataGenerator(featurewise_center=True,\n",
        "                                     rotation_range=90,\n",
        "                                     horizontal_flip=True,\n",
        "                                     vertical_flip=True,\n",
        "                                     zoom_range=0.2\n",
        "                                     )\n",
        "  #train_datagen = ImageDataGenerator()\n",
        "  \n",
        "  \n",
        "  test_datagen = ImageDataGenerator(featurewise_center=True,\n",
        "                                     rotation_range=90,\n",
        "                                     horizontal_flip=True,\n",
        "                                     vertical_flip=True,\n",
        "                                     zoom_range=0.2)\n",
        "  #test_datagen = ImageDataGenerator()\n",
        "  \n",
        "  train_datagen.mean = [123.68, 116.779, 103.939]\n",
        "  test_datagen.mean = [123.68, 116.779, 103.939]\n",
        "\n",
        "  train_generator = train_datagen.flow_from_dataframe(\n",
        "      train_df,\n",
        "      target_size=(img_width, img_height),\n",
        "      batch_size=batch_size,\n",
        "      class_mode=\"raw\")\n",
        "  \n",
        "  validation_generator = test_datagen.flow_from_dataframe(\n",
        "      test_df,\n",
        "      target_size=(img_width, img_height),\n",
        "      batch_size=batch_size,\n",
        "      class_mode=\"raw\")"
      ],
      "metadata": {
        "colab": {
          "base_uri": "https://localhost:8080/"
        },
        "id": "3ohxP0WIA0zu",
        "outputId": "1c7ee634-991c-4a1e-9090-945bb1e6fa75"
      },
      "execution_count": 10,
      "outputs": [
        {
          "output_type": "stream",
          "name": "stdout",
          "text": [
            "/content/drive/.shortcut-targets-by-id/1TwodLZHcjY5V5pFsayKXQpZZAoZTRYeA/Hackathon_HiGency/data/images_stanford\n"
          ]
        }
      ]
    },
    {
      "cell_type": "markdown",
      "source": [
        "## Pretrained"
      ],
      "metadata": {
        "id": "3h1cjKKf_Zrn"
      }
    },
    {
      "cell_type": "code",
      "source": [
        "from tensorflow.keras.applications import EfficientNetB0"
      ],
      "metadata": {
        "id": "SY-RS8fV9TTL"
      },
      "execution_count": 12,
      "outputs": []
    },
    {
      "cell_type": "code",
      "source": [
        "effnet_model = Sequential()\n",
        "\n",
        "pretrained_model= EfficientNetB0(include_top=False,\n",
        "                   input_shape=(224,224,3),\n",
        "                   pooling='avg',\n",
        "                   weights='imagenet')\n",
        "\n",
        "for layer in pretrained_model.layers:\n",
        "        layer.trainable=False\n",
        "\n",
        "effnet_model.add(pretrained_model)"
      ],
      "metadata": {
        "id": "xwvJ6aMI8pyo"
      },
      "execution_count": 13,
      "outputs": []
    },
    {
      "cell_type": "code",
      "source": [
        "effnet_model.add(Flatten())\n",
        "effnet_model.add(Dense(512, activation='relu'))\n",
        "effnet_model.add(Dense(1, activation='linear'))"
      ],
      "metadata": {
        "id": "7XxrzbTP9mNR"
      },
      "execution_count": 14,
      "outputs": []
    },
    {
      "cell_type": "code",
      "source": [
        "if training:\n",
        "  effnet_model.compile(optimizer=Adam(learning_rate=0.001), loss='mean_absolute_percentage_error', metrics=[tf.keras.metrics.MeanAbsolutePercentageError()])\n",
        "  early_stop = EarlyStopping(monitor='val_loss', patience=8, verbose=1, min_delta=1e-4)\n",
        "  reduce_lr = ReduceLROnPlateau(monitor='val_loss', factor=0.1, patience=4, verbose=1, min_delta=1e-4)\n",
        "  checkpoint = ModelCheckpoint('effnet_finetune.h15', monitor= 'val_loss', save_best_only = True, verbose= 1)\n",
        "  callbacks_list = [early_stop, reduce_lr,checkpoint]\n",
        "  \n",
        "  history = effnet_model.fit(train_generator, validation_data=validation_generator, epochs=100, callbacks=callbacks_list)"
      ],
      "metadata": {
        "colab": {
          "base_uri": "https://localhost:8080/",
          "height": 1000
        },
        "id": "UJi5F9wU9s6E",
        "outputId": "68439a58-3ace-4a6d-a999-072fa9789cb6"
      },
      "execution_count": 15,
      "outputs": [
        {
          "output_type": "stream",
          "name": "stdout",
          "text": [
            "Epoch 1/100\n",
            "207/207 [==============================] - ETA: 0s - loss: 33.6175 - mean_absolute_percentage_error: 33.6175\n",
            "Epoch 1: val_loss improved from inf to 25.84919, saving model to effnet_finetune.h15\n",
            "INFO:tensorflow:Assets written to: effnet_finetune.h15/assets\n",
            "207/207 [==============================] - 240s 1s/step - loss: 33.6175 - mean_absolute_percentage_error: 33.6175 - val_loss: 25.8492 - val_mean_absolute_percentage_error: 25.8492 - lr: 0.0010\n",
            "Epoch 2/100\n",
            "207/207 [==============================] - ETA: 0s - loss: 25.6397 - mean_absolute_percentage_error: 25.6397\n",
            "Epoch 2: val_loss improved from 25.84919 to 25.12102, saving model to effnet_finetune.h15\n",
            "INFO:tensorflow:Assets written to: effnet_finetune.h15/assets\n",
            "207/207 [==============================] - 222s 1s/step - loss: 25.6397 - mean_absolute_percentage_error: 25.6397 - val_loss: 25.1210 - val_mean_absolute_percentage_error: 25.1210 - lr: 0.0010\n",
            "Epoch 3/100\n",
            "207/207 [==============================] - ETA: 0s - loss: 25.0958 - mean_absolute_percentage_error: 25.0958\n",
            "Epoch 3: val_loss improved from 25.12102 to 24.53264, saving model to effnet_finetune.h15\n",
            "INFO:tensorflow:Assets written to: effnet_finetune.h15/assets\n",
            "207/207 [==============================] - 225s 1s/step - loss: 25.0958 - mean_absolute_percentage_error: 25.0958 - val_loss: 24.5326 - val_mean_absolute_percentage_error: 24.5326 - lr: 0.0010\n",
            "Epoch 4/100\n",
            "207/207 [==============================] - ETA: 0s - loss: 24.6829 - mean_absolute_percentage_error: 24.6829\n",
            "Epoch 4: val_loss improved from 24.53264 to 24.17262, saving model to effnet_finetune.h15\n",
            "INFO:tensorflow:Assets written to: effnet_finetune.h15/assets\n",
            "207/207 [==============================] - 227s 1s/step - loss: 24.6829 - mean_absolute_percentage_error: 24.6829 - val_loss: 24.1726 - val_mean_absolute_percentage_error: 24.1726 - lr: 0.0010\n",
            "Epoch 5/100\n",
            "207/207 [==============================] - ETA: 0s - loss: 24.1472 - mean_absolute_percentage_error: 24.1472\n",
            "Epoch 5: val_loss improved from 24.17262 to 23.91401, saving model to effnet_finetune.h15\n",
            "INFO:tensorflow:Assets written to: effnet_finetune.h15/assets\n",
            "207/207 [==============================] - 226s 1s/step - loss: 24.1472 - mean_absolute_percentage_error: 24.1472 - val_loss: 23.9140 - val_mean_absolute_percentage_error: 23.9140 - lr: 0.0010\n",
            "Epoch 6/100\n",
            "207/207 [==============================] - ETA: 0s - loss: 23.8727 - mean_absolute_percentage_error: 23.8727\n",
            "Epoch 6: val_loss improved from 23.91401 to 23.61881, saving model to effnet_finetune.h15\n",
            "INFO:tensorflow:Assets written to: effnet_finetune.h15/assets\n",
            "207/207 [==============================] - 233s 1s/step - loss: 23.8727 - mean_absolute_percentage_error: 23.8727 - val_loss: 23.6188 - val_mean_absolute_percentage_error: 23.6188 - lr: 0.0010\n",
            "Epoch 7/100\n",
            "207/207 [==============================] - ETA: 0s - loss: 23.7602 - mean_absolute_percentage_error: 23.7602\n",
            "Epoch 7: val_loss improved from 23.61881 to 23.35620, saving model to effnet_finetune.h15\n",
            "INFO:tensorflow:Assets written to: effnet_finetune.h15/assets\n",
            "207/207 [==============================] - 239s 1s/step - loss: 23.7602 - mean_absolute_percentage_error: 23.7602 - val_loss: 23.3562 - val_mean_absolute_percentage_error: 23.3562 - lr: 0.0010\n",
            "Epoch 8/100\n",
            "207/207 [==============================] - ETA: 0s - loss: 23.3396 - mean_absolute_percentage_error: 23.3396\n",
            "Epoch 8: val_loss did not improve from 23.35620\n",
            "207/207 [==============================] - 183s 886ms/step - loss: 23.3396 - mean_absolute_percentage_error: 23.3396 - val_loss: 23.5701 - val_mean_absolute_percentage_error: 23.5701 - lr: 0.0010\n",
            "Epoch 9/100\n",
            "207/207 [==============================] - ETA: 0s - loss: 23.3109 - mean_absolute_percentage_error: 23.3109\n",
            "Epoch 9: val_loss improved from 23.35620 to 23.06129, saving model to effnet_finetune.h15\n",
            "INFO:tensorflow:Assets written to: effnet_finetune.h15/assets\n",
            "207/207 [==============================] - 237s 1s/step - loss: 23.3109 - mean_absolute_percentage_error: 23.3109 - val_loss: 23.0613 - val_mean_absolute_percentage_error: 23.0613 - lr: 0.0010\n",
            "Epoch 10/100\n",
            "207/207 [==============================] - ETA: 0s - loss: 23.2312 - mean_absolute_percentage_error: 23.2312\n",
            "Epoch 10: val_loss improved from 23.06129 to 22.98393, saving model to effnet_finetune.h15\n",
            "INFO:tensorflow:Assets written to: effnet_finetune.h15/assets\n",
            "207/207 [==============================] - 230s 1s/step - loss: 23.2312 - mean_absolute_percentage_error: 23.2312 - val_loss: 22.9839 - val_mean_absolute_percentage_error: 22.9839 - lr: 0.0010\n",
            "Epoch 11/100\n",
            "207/207 [==============================] - ETA: 0s - loss: 23.0720 - mean_absolute_percentage_error: 23.0720\n",
            "Epoch 11: val_loss did not improve from 22.98393\n",
            "207/207 [==============================] - 180s 869ms/step - loss: 23.0720 - mean_absolute_percentage_error: 23.0720 - val_loss: 23.1856 - val_mean_absolute_percentage_error: 23.1856 - lr: 0.0010\n",
            "Epoch 12/100\n",
            "207/207 [==============================] - ETA: 0s - loss: 23.0269 - mean_absolute_percentage_error: 23.0269\n",
            "Epoch 12: val_loss did not improve from 22.98393\n",
            "207/207 [==============================] - 184s 891ms/step - loss: 23.0269 - mean_absolute_percentage_error: 23.0269 - val_loss: 23.1864 - val_mean_absolute_percentage_error: 23.1864 - lr: 0.0010\n",
            "Epoch 13/100\n",
            "207/207 [==============================] - ETA: 0s - loss: 22.8197 - mean_absolute_percentage_error: 22.8197\n",
            "Epoch 13: val_loss improved from 22.98393 to 22.94962, saving model to effnet_finetune.h15\n",
            "INFO:tensorflow:Assets written to: effnet_finetune.h15/assets\n",
            "207/207 [==============================] - 234s 1s/step - loss: 22.8197 - mean_absolute_percentage_error: 22.8197 - val_loss: 22.9496 - val_mean_absolute_percentage_error: 22.9496 - lr: 0.0010\n",
            "Epoch 14/100\n",
            "207/207 [==============================] - ETA: 0s - loss: 22.5061 - mean_absolute_percentage_error: 22.5061\n",
            "Epoch 14: val_loss improved from 22.94962 to 22.92146, saving model to effnet_finetune.h15\n",
            "INFO:tensorflow:Assets written to: effnet_finetune.h15/assets\n",
            "207/207 [==============================] - 228s 1s/step - loss: 22.5061 - mean_absolute_percentage_error: 22.5061 - val_loss: 22.9215 - val_mean_absolute_percentage_error: 22.9215 - lr: 0.0010\n",
            "Epoch 15/100\n",
            "101/207 [=============>................] - ETA: 1:13 - loss: 22.0899 - mean_absolute_percentage_error: 22.0899"
          ]
        },
        {
          "output_type": "error",
          "ename": "KeyboardInterrupt",
          "evalue": "ignored",
          "traceback": [
            "\u001b[0;31m---------------------------------------------------------------------------\u001b[0m",
            "\u001b[0;31mKeyboardInterrupt\u001b[0m                         Traceback (most recent call last)",
            "\u001b[0;32m<ipython-input-15-c66261033452>\u001b[0m in \u001b[0;36m<module>\u001b[0;34m()\u001b[0m\n\u001b[1;32m      5\u001b[0m \u001b[0mcallbacks_list\u001b[0m \u001b[0;34m=\u001b[0m \u001b[0;34m[\u001b[0m\u001b[0mearly_stop\u001b[0m\u001b[0;34m,\u001b[0m \u001b[0mreduce_lr\u001b[0m\u001b[0;34m,\u001b[0m\u001b[0mcheckpoint\u001b[0m\u001b[0;34m]\u001b[0m\u001b[0;34m\u001b[0m\u001b[0;34m\u001b[0m\u001b[0m\n\u001b[1;32m      6\u001b[0m \u001b[0;34m\u001b[0m\u001b[0m\n\u001b[0;32m----> 7\u001b[0;31m \u001b[0mhistory\u001b[0m \u001b[0;34m=\u001b[0m \u001b[0meffnet_model\u001b[0m\u001b[0;34m.\u001b[0m\u001b[0mfit\u001b[0m\u001b[0;34m(\u001b[0m\u001b[0mtrain_generator\u001b[0m\u001b[0;34m,\u001b[0m \u001b[0mvalidation_data\u001b[0m\u001b[0;34m=\u001b[0m\u001b[0mvalidation_generator\u001b[0m\u001b[0;34m,\u001b[0m \u001b[0mepochs\u001b[0m\u001b[0;34m=\u001b[0m\u001b[0;36m100\u001b[0m\u001b[0;34m,\u001b[0m \u001b[0mcallbacks\u001b[0m\u001b[0;34m=\u001b[0m\u001b[0mcallbacks_list\u001b[0m\u001b[0;34m)\u001b[0m\u001b[0;34m\u001b[0m\u001b[0;34m\u001b[0m\u001b[0m\n\u001b[0m",
            "\u001b[0;32m/usr/local/lib/python3.7/dist-packages/keras/utils/traceback_utils.py\u001b[0m in \u001b[0;36merror_handler\u001b[0;34m(*args, **kwargs)\u001b[0m\n\u001b[1;32m     62\u001b[0m     \u001b[0mfiltered_tb\u001b[0m \u001b[0;34m=\u001b[0m \u001b[0;32mNone\u001b[0m\u001b[0;34m\u001b[0m\u001b[0;34m\u001b[0m\u001b[0m\n\u001b[1;32m     63\u001b[0m     \u001b[0;32mtry\u001b[0m\u001b[0;34m:\u001b[0m\u001b[0;34m\u001b[0m\u001b[0;34m\u001b[0m\u001b[0m\n\u001b[0;32m---> 64\u001b[0;31m       \u001b[0;32mreturn\u001b[0m \u001b[0mfn\u001b[0m\u001b[0;34m(\u001b[0m\u001b[0;34m*\u001b[0m\u001b[0margs\u001b[0m\u001b[0;34m,\u001b[0m \u001b[0;34m**\u001b[0m\u001b[0mkwargs\u001b[0m\u001b[0;34m)\u001b[0m\u001b[0;34m\u001b[0m\u001b[0;34m\u001b[0m\u001b[0m\n\u001b[0m\u001b[1;32m     65\u001b[0m     \u001b[0;32mexcept\u001b[0m \u001b[0mException\u001b[0m \u001b[0;32mas\u001b[0m \u001b[0me\u001b[0m\u001b[0;34m:\u001b[0m  \u001b[0;31m# pylint: disable=broad-except\u001b[0m\u001b[0;34m\u001b[0m\u001b[0;34m\u001b[0m\u001b[0m\n\u001b[1;32m     66\u001b[0m       \u001b[0mfiltered_tb\u001b[0m \u001b[0;34m=\u001b[0m \u001b[0m_process_traceback_frames\u001b[0m\u001b[0;34m(\u001b[0m\u001b[0me\u001b[0m\u001b[0;34m.\u001b[0m\u001b[0m__traceback__\u001b[0m\u001b[0;34m)\u001b[0m\u001b[0;34m\u001b[0m\u001b[0;34m\u001b[0m\u001b[0m\n",
            "\u001b[0;32m/usr/local/lib/python3.7/dist-packages/keras/engine/training.py\u001b[0m in \u001b[0;36mfit\u001b[0;34m(self, x, y, batch_size, epochs, verbose, callbacks, validation_split, validation_data, shuffle, class_weight, sample_weight, initial_epoch, steps_per_epoch, validation_steps, validation_batch_size, validation_freq, max_queue_size, workers, use_multiprocessing)\u001b[0m\n\u001b[1;32m   1382\u001b[0m                 _r=1):\n\u001b[1;32m   1383\u001b[0m               \u001b[0mcallbacks\u001b[0m\u001b[0;34m.\u001b[0m\u001b[0mon_train_batch_begin\u001b[0m\u001b[0;34m(\u001b[0m\u001b[0mstep\u001b[0m\u001b[0;34m)\u001b[0m\u001b[0;34m\u001b[0m\u001b[0;34m\u001b[0m\u001b[0m\n\u001b[0;32m-> 1384\u001b[0;31m               \u001b[0mtmp_logs\u001b[0m \u001b[0;34m=\u001b[0m \u001b[0mself\u001b[0m\u001b[0;34m.\u001b[0m\u001b[0mtrain_function\u001b[0m\u001b[0;34m(\u001b[0m\u001b[0miterator\u001b[0m\u001b[0;34m)\u001b[0m\u001b[0;34m\u001b[0m\u001b[0;34m\u001b[0m\u001b[0m\n\u001b[0m\u001b[1;32m   1385\u001b[0m               \u001b[0;32mif\u001b[0m \u001b[0mdata_handler\u001b[0m\u001b[0;34m.\u001b[0m\u001b[0mshould_sync\u001b[0m\u001b[0;34m:\u001b[0m\u001b[0;34m\u001b[0m\u001b[0;34m\u001b[0m\u001b[0m\n\u001b[1;32m   1386\u001b[0m                 \u001b[0mcontext\u001b[0m\u001b[0;34m.\u001b[0m\u001b[0masync_wait\u001b[0m\u001b[0;34m(\u001b[0m\u001b[0;34m)\u001b[0m\u001b[0;34m\u001b[0m\u001b[0;34m\u001b[0m\u001b[0m\n",
            "\u001b[0;32m/usr/local/lib/python3.7/dist-packages/tensorflow/python/util/traceback_utils.py\u001b[0m in \u001b[0;36merror_handler\u001b[0;34m(*args, **kwargs)\u001b[0m\n\u001b[1;32m    148\u001b[0m     \u001b[0mfiltered_tb\u001b[0m \u001b[0;34m=\u001b[0m \u001b[0;32mNone\u001b[0m\u001b[0;34m\u001b[0m\u001b[0;34m\u001b[0m\u001b[0m\n\u001b[1;32m    149\u001b[0m     \u001b[0;32mtry\u001b[0m\u001b[0;34m:\u001b[0m\u001b[0;34m\u001b[0m\u001b[0;34m\u001b[0m\u001b[0m\n\u001b[0;32m--> 150\u001b[0;31m       \u001b[0;32mreturn\u001b[0m \u001b[0mfn\u001b[0m\u001b[0;34m(\u001b[0m\u001b[0;34m*\u001b[0m\u001b[0margs\u001b[0m\u001b[0;34m,\u001b[0m \u001b[0;34m**\u001b[0m\u001b[0mkwargs\u001b[0m\u001b[0;34m)\u001b[0m\u001b[0;34m\u001b[0m\u001b[0;34m\u001b[0m\u001b[0m\n\u001b[0m\u001b[1;32m    151\u001b[0m     \u001b[0;32mexcept\u001b[0m \u001b[0mException\u001b[0m \u001b[0;32mas\u001b[0m \u001b[0me\u001b[0m\u001b[0;34m:\u001b[0m\u001b[0;34m\u001b[0m\u001b[0;34m\u001b[0m\u001b[0m\n\u001b[1;32m    152\u001b[0m       \u001b[0mfiltered_tb\u001b[0m \u001b[0;34m=\u001b[0m \u001b[0m_process_traceback_frames\u001b[0m\u001b[0;34m(\u001b[0m\u001b[0me\u001b[0m\u001b[0;34m.\u001b[0m\u001b[0m__traceback__\u001b[0m\u001b[0;34m)\u001b[0m\u001b[0;34m\u001b[0m\u001b[0;34m\u001b[0m\u001b[0m\n",
            "\u001b[0;32m/usr/local/lib/python3.7/dist-packages/tensorflow/python/eager/def_function.py\u001b[0m in \u001b[0;36m__call__\u001b[0;34m(self, *args, **kwds)\u001b[0m\n\u001b[1;32m    913\u001b[0m \u001b[0;34m\u001b[0m\u001b[0m\n\u001b[1;32m    914\u001b[0m       \u001b[0;32mwith\u001b[0m \u001b[0mOptionalXlaContext\u001b[0m\u001b[0;34m(\u001b[0m\u001b[0mself\u001b[0m\u001b[0;34m.\u001b[0m\u001b[0m_jit_compile\u001b[0m\u001b[0;34m)\u001b[0m\u001b[0;34m:\u001b[0m\u001b[0;34m\u001b[0m\u001b[0;34m\u001b[0m\u001b[0m\n\u001b[0;32m--> 915\u001b[0;31m         \u001b[0mresult\u001b[0m \u001b[0;34m=\u001b[0m \u001b[0mself\u001b[0m\u001b[0;34m.\u001b[0m\u001b[0m_call\u001b[0m\u001b[0;34m(\u001b[0m\u001b[0;34m*\u001b[0m\u001b[0margs\u001b[0m\u001b[0;34m,\u001b[0m \u001b[0;34m**\u001b[0m\u001b[0mkwds\u001b[0m\u001b[0;34m)\u001b[0m\u001b[0;34m\u001b[0m\u001b[0;34m\u001b[0m\u001b[0m\n\u001b[0m\u001b[1;32m    916\u001b[0m \u001b[0;34m\u001b[0m\u001b[0m\n\u001b[1;32m    917\u001b[0m       \u001b[0mnew_tracing_count\u001b[0m \u001b[0;34m=\u001b[0m \u001b[0mself\u001b[0m\u001b[0;34m.\u001b[0m\u001b[0mexperimental_get_tracing_count\u001b[0m\u001b[0;34m(\u001b[0m\u001b[0;34m)\u001b[0m\u001b[0;34m\u001b[0m\u001b[0;34m\u001b[0m\u001b[0m\n",
            "\u001b[0;32m/usr/local/lib/python3.7/dist-packages/tensorflow/python/eager/def_function.py\u001b[0m in \u001b[0;36m_call\u001b[0;34m(self, *args, **kwds)\u001b[0m\n\u001b[1;32m    945\u001b[0m       \u001b[0;31m# In this case we have created variables on the first call, so we run the\u001b[0m\u001b[0;34m\u001b[0m\u001b[0;34m\u001b[0m\u001b[0;34m\u001b[0m\u001b[0m\n\u001b[1;32m    946\u001b[0m       \u001b[0;31m# defunned version which is guaranteed to never create variables.\u001b[0m\u001b[0;34m\u001b[0m\u001b[0;34m\u001b[0m\u001b[0;34m\u001b[0m\u001b[0m\n\u001b[0;32m--> 947\u001b[0;31m       \u001b[0;32mreturn\u001b[0m \u001b[0mself\u001b[0m\u001b[0;34m.\u001b[0m\u001b[0m_stateless_fn\u001b[0m\u001b[0;34m(\u001b[0m\u001b[0;34m*\u001b[0m\u001b[0margs\u001b[0m\u001b[0;34m,\u001b[0m \u001b[0;34m**\u001b[0m\u001b[0mkwds\u001b[0m\u001b[0;34m)\u001b[0m  \u001b[0;31m# pylint: disable=not-callable\u001b[0m\u001b[0;34m\u001b[0m\u001b[0;34m\u001b[0m\u001b[0m\n\u001b[0m\u001b[1;32m    948\u001b[0m     \u001b[0;32melif\u001b[0m \u001b[0mself\u001b[0m\u001b[0;34m.\u001b[0m\u001b[0m_stateful_fn\u001b[0m \u001b[0;32mis\u001b[0m \u001b[0;32mnot\u001b[0m \u001b[0;32mNone\u001b[0m\u001b[0;34m:\u001b[0m\u001b[0;34m\u001b[0m\u001b[0;34m\u001b[0m\u001b[0m\n\u001b[1;32m    949\u001b[0m       \u001b[0;31m# Release the lock early so that multiple threads can perform the call\u001b[0m\u001b[0;34m\u001b[0m\u001b[0;34m\u001b[0m\u001b[0;34m\u001b[0m\u001b[0m\n",
            "\u001b[0;32m/usr/local/lib/python3.7/dist-packages/tensorflow/python/eager/function.py\u001b[0m in \u001b[0;36m__call__\u001b[0;34m(self, *args, **kwargs)\u001b[0m\n\u001b[1;32m   2955\u001b[0m        filtered_flat_args) = self._maybe_define_function(args, kwargs)\n\u001b[1;32m   2956\u001b[0m     return graph_function._call_flat(\n\u001b[0;32m-> 2957\u001b[0;31m         filtered_flat_args, captured_inputs=graph_function.captured_inputs)  # pylint: disable=protected-access\n\u001b[0m\u001b[1;32m   2958\u001b[0m \u001b[0;34m\u001b[0m\u001b[0m\n\u001b[1;32m   2959\u001b[0m   \u001b[0;34m@\u001b[0m\u001b[0mproperty\u001b[0m\u001b[0;34m\u001b[0m\u001b[0;34m\u001b[0m\u001b[0m\n",
            "\u001b[0;32m/usr/local/lib/python3.7/dist-packages/tensorflow/python/eager/function.py\u001b[0m in \u001b[0;36m_call_flat\u001b[0;34m(self, args, captured_inputs, cancellation_manager)\u001b[0m\n\u001b[1;32m   1852\u001b[0m       \u001b[0;31m# No tape is watching; skip to running the function.\u001b[0m\u001b[0;34m\u001b[0m\u001b[0;34m\u001b[0m\u001b[0;34m\u001b[0m\u001b[0m\n\u001b[1;32m   1853\u001b[0m       return self._build_call_outputs(self._inference_function.call(\n\u001b[0;32m-> 1854\u001b[0;31m           ctx, args, cancellation_manager=cancellation_manager))\n\u001b[0m\u001b[1;32m   1855\u001b[0m     forward_backward = self._select_forward_and_backward_functions(\n\u001b[1;32m   1856\u001b[0m         \u001b[0margs\u001b[0m\u001b[0;34m,\u001b[0m\u001b[0;34m\u001b[0m\u001b[0;34m\u001b[0m\u001b[0m\n",
            "\u001b[0;32m/usr/local/lib/python3.7/dist-packages/tensorflow/python/eager/function.py\u001b[0m in \u001b[0;36mcall\u001b[0;34m(self, ctx, args, cancellation_manager)\u001b[0m\n\u001b[1;32m    502\u001b[0m               \u001b[0minputs\u001b[0m\u001b[0;34m=\u001b[0m\u001b[0margs\u001b[0m\u001b[0;34m,\u001b[0m\u001b[0;34m\u001b[0m\u001b[0;34m\u001b[0m\u001b[0m\n\u001b[1;32m    503\u001b[0m               \u001b[0mattrs\u001b[0m\u001b[0;34m=\u001b[0m\u001b[0mattrs\u001b[0m\u001b[0;34m,\u001b[0m\u001b[0;34m\u001b[0m\u001b[0;34m\u001b[0m\u001b[0m\n\u001b[0;32m--> 504\u001b[0;31m               ctx=ctx)\n\u001b[0m\u001b[1;32m    505\u001b[0m         \u001b[0;32melse\u001b[0m\u001b[0;34m:\u001b[0m\u001b[0;34m\u001b[0m\u001b[0;34m\u001b[0m\u001b[0m\n\u001b[1;32m    506\u001b[0m           outputs = execute.execute_with_cancellation(\n",
            "\u001b[0;32m/usr/local/lib/python3.7/dist-packages/tensorflow/python/eager/execute.py\u001b[0m in \u001b[0;36mquick_execute\u001b[0;34m(op_name, num_outputs, inputs, attrs, ctx, name)\u001b[0m\n\u001b[1;32m     53\u001b[0m     \u001b[0mctx\u001b[0m\u001b[0;34m.\u001b[0m\u001b[0mensure_initialized\u001b[0m\u001b[0;34m(\u001b[0m\u001b[0;34m)\u001b[0m\u001b[0;34m\u001b[0m\u001b[0;34m\u001b[0m\u001b[0m\n\u001b[1;32m     54\u001b[0m     tensors = pywrap_tfe.TFE_Py_Execute(ctx._handle, device_name, op_name,\n\u001b[0;32m---> 55\u001b[0;31m                                         inputs, attrs, num_outputs)\n\u001b[0m\u001b[1;32m     56\u001b[0m   \u001b[0;32mexcept\u001b[0m \u001b[0mcore\u001b[0m\u001b[0;34m.\u001b[0m\u001b[0m_NotOkStatusException\u001b[0m \u001b[0;32mas\u001b[0m \u001b[0me\u001b[0m\u001b[0;34m:\u001b[0m\u001b[0;34m\u001b[0m\u001b[0;34m\u001b[0m\u001b[0m\n\u001b[1;32m     57\u001b[0m     \u001b[0;32mif\u001b[0m \u001b[0mname\u001b[0m \u001b[0;32mis\u001b[0m \u001b[0;32mnot\u001b[0m \u001b[0;32mNone\u001b[0m\u001b[0;34m:\u001b[0m\u001b[0;34m\u001b[0m\u001b[0;34m\u001b[0m\u001b[0m\n",
            "\u001b[0;31mKeyboardInterrupt\u001b[0m: "
          ]
        }
      ]
    },
    {
      "cell_type": "markdown",
      "source": [
        "### Results"
      ],
      "metadata": {
        "id": "ic7LiN4D4Gfm"
      }
    },
    {
      "cell_type": "code",
      "source": [
        "y_true = test_df['class_co2'].values\n",
        "print(y_true.shape)\n",
        "print(np.mean((np.abs(y_true-y_pred[:,0])/y_true))) #0.2776463470246597 on images_hackathon"
      ],
      "metadata": {
        "id": "xr2bMliakawm"
      },
      "execution_count": null,
      "outputs": []
    },
    {
      "cell_type": "code",
      "source": [
        "if training:\n",
        "  tf.keras.models.save_model(effnet_model, '/content/drive/MyDrive/Hackathon_HiGency/Step2/effnet_reg')\n",
        "else :\n",
        "  effnet_model.load('/content/drive/MyDrive/Hackathon_HiGency/Step2/effnet_reg')"
      ],
      "metadata": {
        "colab": {
          "base_uri": "https://localhost:8080/"
        },
        "id": "h_61i0Z-iKl_",
        "outputId": "1e109b55-1518-46a7-da61-8b5c80690f84"
      },
      "execution_count": null,
      "outputs": [
        {
          "output_type": "stream",
          "name": "stdout",
          "text": [
            "INFO:tensorflow:Assets written to: /content/drive/MyDrive/Hackathon_HiGency/Step2/effnet_reg/assets\n"
          ]
        },
        {
          "output_type": "execute_result",
          "data": {
            "text/plain": [
              "(None,)"
            ]
          },
          "metadata": {},
          "execution_count": 16
        }
      ]
    },
    {
      "cell_type": "markdown",
      "source": [
        "##  Final prediction"
      ],
      "metadata": {
        "id": "fxHNPSYercMN"
      }
    },
    {
      "cell_type": "code",
      "source": [
        "cd /content/drive/MyDrive/Hackathon_HiGency/data"
      ],
      "metadata": {
        "colab": {
          "base_uri": "https://localhost:8080/"
        },
        "id": "Q9NXGs3Qio_C",
        "outputId": "4d059104-622d-41b3-9685-1befc5dc350e"
      },
      "execution_count": 64,
      "outputs": [
        {
          "output_type": "stream",
          "name": "stdout",
          "text": [
            "/content/drive/.shortcut-targets-by-id/1TwodLZHcjY5V5pFsayKXQpZZAoZTRYeA/Hackathon_HiGency/data\n"
          ]
        }
      ]
    },
    {
      "cell_type": "code",
      "source": [
        "#from Walid (step 1)\n",
        "train_annotation = pd.read_pickle('test_car_annotations_fixed.pkl')\n",
        "train_annotation"
      ],
      "metadata": {
        "colab": {
          "base_uri": "https://localhost:8080/",
          "height": 423
        },
        "id": "u3-ulwAVicJy",
        "outputId": "c90db916-ec1c-4d86-cb3d-6e3d96c663b8"
      },
      "execution_count": 65,
      "outputs": [
        {
          "output_type": "execute_result",
          "data": {
            "text/html": [
              "\n",
              "  <div id=\"df-cf057d36-a6f9-4185-b535-d3f8a07f6127\">\n",
              "    <div class=\"colab-df-container\">\n",
              "      <div>\n",
              "<style scoped>\n",
              "    .dataframe tbody tr th:only-of-type {\n",
              "        vertical-align: middle;\n",
              "    }\n",
              "\n",
              "    .dataframe tbody tr th {\n",
              "        vertical-align: top;\n",
              "    }\n",
              "\n",
              "    .dataframe thead th {\n",
              "        text-align: right;\n",
              "    }\n",
              "</style>\n",
              "<table border=\"1\" class=\"dataframe\">\n",
              "  <thead>\n",
              "    <tr style=\"text-align: right;\">\n",
              "      <th></th>\n",
              "      <th>im_name</th>\n",
              "      <th>x_min</th>\n",
              "      <th>y_min</th>\n",
              "      <th>x_max</th>\n",
              "      <th>y_max</th>\n",
              "      <th>class</th>\n",
              "    </tr>\n",
              "  </thead>\n",
              "  <tbody>\n",
              "    <tr>\n",
              "      <th>3</th>\n",
              "      <td>71540198.jpg</td>\n",
              "      <td>98</td>\n",
              "      <td>79</td>\n",
              "      <td>1620</td>\n",
              "      <td>815</td>\n",
              "      <td>1</td>\n",
              "    </tr>\n",
              "    <tr>\n",
              "      <th>4</th>\n",
              "      <td>85427036.jpg</td>\n",
              "      <td>234</td>\n",
              "      <td>195</td>\n",
              "      <td>1033</td>\n",
              "      <td>643</td>\n",
              "      <td>1</td>\n",
              "    </tr>\n",
              "    <tr>\n",
              "      <th>6</th>\n",
              "      <td>6087324064.jpg</td>\n",
              "      <td>1480</td>\n",
              "      <td>371</td>\n",
              "      <td>1602</td>\n",
              "      <td>705</td>\n",
              "      <td>1</td>\n",
              "    </tr>\n",
              "    <tr>\n",
              "      <th>8</th>\n",
              "      <td>11828073.jpg</td>\n",
              "      <td>19</td>\n",
              "      <td>62</td>\n",
              "      <td>614</td>\n",
              "      <td>417</td>\n",
              "      <td>1</td>\n",
              "    </tr>\n",
              "    <tr>\n",
              "      <th>11</th>\n",
              "      <td>5116251.jpg</td>\n",
              "      <td>96</td>\n",
              "      <td>77</td>\n",
              "      <td>1081</td>\n",
              "      <td>559</td>\n",
              "      <td>1</td>\n",
              "    </tr>\n",
              "    <tr>\n",
              "      <th>...</th>\n",
              "      <td>...</td>\n",
              "      <td>...</td>\n",
              "      <td>...</td>\n",
              "      <td>...</td>\n",
              "      <td>...</td>\n",
              "      <td>...</td>\n",
              "    </tr>\n",
              "    <tr>\n",
              "      <th>1015</th>\n",
              "      <td>38559539.jpg</td>\n",
              "      <td>116</td>\n",
              "      <td>90</td>\n",
              "      <td>841</td>\n",
              "      <td>447</td>\n",
              "      <td>1</td>\n",
              "    </tr>\n",
              "    <tr>\n",
              "      <th>1017</th>\n",
              "      <td>77082581.jpg</td>\n",
              "      <td>115</td>\n",
              "      <td>323</td>\n",
              "      <td>780</td>\n",
              "      <td>555</td>\n",
              "      <td>1</td>\n",
              "    </tr>\n",
              "    <tr>\n",
              "      <th>1018</th>\n",
              "      <td>89862599.jpg</td>\n",
              "      <td>23</td>\n",
              "      <td>109</td>\n",
              "      <td>970</td>\n",
              "      <td>571</td>\n",
              "      <td>1</td>\n",
              "    </tr>\n",
              "    <tr>\n",
              "      <th>1021</th>\n",
              "      <td>73537501.jpg</td>\n",
              "      <td>84</td>\n",
              "      <td>81</td>\n",
              "      <td>525</td>\n",
              "      <td>376</td>\n",
              "      <td>1</td>\n",
              "    </tr>\n",
              "    <tr>\n",
              "      <th>1022</th>\n",
              "      <td>98186923.jpg</td>\n",
              "      <td>176</td>\n",
              "      <td>183</td>\n",
              "      <td>742</td>\n",
              "      <td>541</td>\n",
              "      <td>1</td>\n",
              "    </tr>\n",
              "  </tbody>\n",
              "</table>\n",
              "<p>532 rows × 6 columns</p>\n",
              "</div>\n",
              "      <button class=\"colab-df-convert\" onclick=\"convertToInteractive('df-cf057d36-a6f9-4185-b535-d3f8a07f6127')\"\n",
              "              title=\"Convert this dataframe to an interactive table.\"\n",
              "              style=\"display:none;\">\n",
              "        \n",
              "  <svg xmlns=\"http://www.w3.org/2000/svg\" height=\"24px\"viewBox=\"0 0 24 24\"\n",
              "       width=\"24px\">\n",
              "    <path d=\"M0 0h24v24H0V0z\" fill=\"none\"/>\n",
              "    <path d=\"M18.56 5.44l.94 2.06.94-2.06 2.06-.94-2.06-.94-.94-2.06-.94 2.06-2.06.94zm-11 1L8.5 8.5l.94-2.06 2.06-.94-2.06-.94L8.5 2.5l-.94 2.06-2.06.94zm10 10l.94 2.06.94-2.06 2.06-.94-2.06-.94-.94-2.06-.94 2.06-2.06.94z\"/><path d=\"M17.41 7.96l-1.37-1.37c-.4-.4-.92-.59-1.43-.59-.52 0-1.04.2-1.43.59L10.3 9.45l-7.72 7.72c-.78.78-.78 2.05 0 2.83L4 21.41c.39.39.9.59 1.41.59.51 0 1.02-.2 1.41-.59l7.78-7.78 2.81-2.81c.8-.78.8-2.07 0-2.86zM5.41 20L4 18.59l7.72-7.72 1.47 1.35L5.41 20z\"/>\n",
              "  </svg>\n",
              "      </button>\n",
              "      \n",
              "  <style>\n",
              "    .colab-df-container {\n",
              "      display:flex;\n",
              "      flex-wrap:wrap;\n",
              "      gap: 12px;\n",
              "    }\n",
              "\n",
              "    .colab-df-convert {\n",
              "      background-color: #E8F0FE;\n",
              "      border: none;\n",
              "      border-radius: 50%;\n",
              "      cursor: pointer;\n",
              "      display: none;\n",
              "      fill: #1967D2;\n",
              "      height: 32px;\n",
              "      padding: 0 0 0 0;\n",
              "      width: 32px;\n",
              "    }\n",
              "\n",
              "    .colab-df-convert:hover {\n",
              "      background-color: #E2EBFA;\n",
              "      box-shadow: 0px 1px 2px rgba(60, 64, 67, 0.3), 0px 1px 3px 1px rgba(60, 64, 67, 0.15);\n",
              "      fill: #174EA6;\n",
              "    }\n",
              "\n",
              "    [theme=dark] .colab-df-convert {\n",
              "      background-color: #3B4455;\n",
              "      fill: #D2E3FC;\n",
              "    }\n",
              "\n",
              "    [theme=dark] .colab-df-convert:hover {\n",
              "      background-color: #434B5C;\n",
              "      box-shadow: 0px 1px 3px 1px rgba(0, 0, 0, 0.15);\n",
              "      filter: drop-shadow(0px 1px 2px rgba(0, 0, 0, 0.3));\n",
              "      fill: #FFFFFF;\n",
              "    }\n",
              "  </style>\n",
              "\n",
              "      <script>\n",
              "        const buttonEl =\n",
              "          document.querySelector('#df-cf057d36-a6f9-4185-b535-d3f8a07f6127 button.colab-df-convert');\n",
              "        buttonEl.style.display =\n",
              "          google.colab.kernel.accessAllowed ? 'block' : 'none';\n",
              "\n",
              "        async function convertToInteractive(key) {\n",
              "          const element = document.querySelector('#df-cf057d36-a6f9-4185-b535-d3f8a07f6127');\n",
              "          const dataTable =\n",
              "            await google.colab.kernel.invokeFunction('convertToInteractive',\n",
              "                                                     [key], {});\n",
              "          if (!dataTable) return;\n",
              "\n",
              "          const docLinkHtml = 'Like what you see? Visit the ' +\n",
              "            '<a target=\"_blank\" href=https://colab.research.google.com/notebooks/data_table.ipynb>data table notebook</a>'\n",
              "            + ' to learn more about interactive tables.';\n",
              "          element.innerHTML = '';\n",
              "          dataTable['output_type'] = 'display_data';\n",
              "          await google.colab.output.renderOutput(dataTable, element);\n",
              "          const docLink = document.createElement('div');\n",
              "          docLink.innerHTML = docLinkHtml;\n",
              "          element.appendChild(docLink);\n",
              "        }\n",
              "      </script>\n",
              "    </div>\n",
              "  </div>\n",
              "  "
            ],
            "text/plain": [
              "             im_name x_min y_min x_max y_max class\n",
              "3       71540198.jpg    98    79  1620   815     1\n",
              "4       85427036.jpg   234   195  1033   643     1\n",
              "6     6087324064.jpg  1480   371  1602   705     1\n",
              "8       11828073.jpg    19    62   614   417     1\n",
              "11       5116251.jpg    96    77  1081   559     1\n",
              "...              ...   ...   ...   ...   ...   ...\n",
              "1015    38559539.jpg   116    90   841   447     1\n",
              "1017    77082581.jpg   115   323   780   555     1\n",
              "1018    89862599.jpg    23   109   970   571     1\n",
              "1021    73537501.jpg    84    81   525   376     1\n",
              "1022    98186923.jpg   176   183   742   541     1\n",
              "\n",
              "[532 rows x 6 columns]"
            ]
          },
          "metadata": {},
          "execution_count": 65
        }
      ]
    },
    {
      "cell_type": "code",
      "source": [
        "train_annotation[['x_min', 'y_min', 'y_max', 'x_max']].values.sum()"
      ],
      "metadata": {
        "colab": {
          "base_uri": "https://localhost:8080/"
        },
        "id": "-NVxwesb4rRE",
        "outputId": "8bd52105-64ac-4473-be65-215615c945c3"
      },
      "execution_count": 62,
      "outputs": [
        {
          "output_type": "execute_result",
          "data": {
            "text/plain": [
              "822054"
            ]
          },
          "metadata": {},
          "execution_count": 62
        }
      ]
    },
    {
      "cell_type": "code",
      "source": [
        "test_df = train_annotation[train_annotation['class']==1]\n",
        "test_df"
      ],
      "metadata": {
        "id": "kTpyZg5QjI-u"
      },
      "execution_count": 51,
      "outputs": []
    },
    {
      "cell_type": "code",
      "source": [
        "cd /content/drive/MyDrive/Hackathon_HiGency/data/dataset_set"
      ],
      "metadata": {
        "colab": {
          "base_uri": "https://localhost:8080/"
        },
        "id": "d22oSsVljRUf",
        "outputId": "39750c66-b81c-4551-8568-48862667c7b4"
      },
      "execution_count": 54,
      "outputs": [
        {
          "output_type": "stream",
          "name": "stdout",
          "text": [
            "/content/drive/.shortcut-targets-by-id/1TwodLZHcjY5V5pFsayKXQpZZAoZTRYeA/Hackathon_HiGency/data/dataset_set\n"
          ]
        }
      ]
    },
    {
      "cell_type": "code",
      "source": [
        "test_final_datagen = ImageDataGenerator(featurewise_center=True)\n",
        "\n",
        "test_final_datagen.mean = [123.68, 116.779, 103.939]\n",
        "\n",
        "test_generator = train_datagen.flow_from_dataframe(\n",
        "    test_df,\n",
        "    x_col='im_name', \n",
        "    target_size=(img_width, img_height),\n",
        "    batch_size=batch_size,\n",
        "    shuffle=False,\n",
        "    class_mode=None)"
      ],
      "metadata": {
        "colab": {
          "base_uri": "https://localhost:8080/"
        },
        "id": "NUJI7Rz2ivm6",
        "outputId": "90e97974-b5ef-48fe-86ce-28f2d2c9b100"
      },
      "execution_count": 55,
      "outputs": [
        {
          "output_type": "stream",
          "name": "stdout",
          "text": [
            "Found 532 validated image filenames.\n"
          ]
        }
      ]
    },
    {
      "cell_type": "code",
      "source": [
        "%%time\n",
        "y_pred = effnet_model.predict(test_generator)"
      ],
      "metadata": {
        "colab": {
          "base_uri": "https://localhost:8080/"
        },
        "id": "cRgWj1UIh_p2",
        "outputId": "005c2756-4a3a-4ea6-81ff-94f9f8abc44f"
      },
      "execution_count": 61,
      "outputs": [
        {
          "output_type": "stream",
          "name": "stdout",
          "text": [
            "CPU times: user 15.9 s, sys: 293 ms, total: 16.2 s\n",
            "Wall time: 15.9 s\n"
          ]
        }
      ]
    },
    {
      "cell_type": "code",
      "source": [
        "np.sum(y_pred)"
      ],
      "metadata": {
        "colab": {
          "base_uri": "https://localhost:8080/"
        },
        "id": "POxt1Vgw5DCR",
        "outputId": "183b26b4-c4fa-45fe-bb15-0af9fd10cc19"
      },
      "execution_count": 67,
      "outputs": [
        {
          "output_type": "execute_result",
          "data": {
            "text/plain": [
              "86819.7"
            ]
          },
          "metadata": {},
          "execution_count": 67
        }
      ]
    },
    {
      "cell_type": "code",
      "source": [
        "#to Louis \n",
        "np.save('pred_carbon.npy', y_pred)\n",
        "test_df.to_pickle('pred_carbon_df.pkl')"
      ],
      "metadata": {
        "id": "jLUdpUzAslgV"
      },
      "execution_count": 66,
      "outputs": []
    }
  ]
}