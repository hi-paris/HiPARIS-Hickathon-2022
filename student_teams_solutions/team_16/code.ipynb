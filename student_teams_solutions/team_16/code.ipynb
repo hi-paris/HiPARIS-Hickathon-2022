{
 "cells": [
  {
   "cell_type": "code",
   "execution_count": null,
   "id": "891e5885",
   "metadata": {},
   "outputs": [],
   "source": [
    "#Data set with 392 images\n",
    "\n",
    "import glob \n",
    "\n",
    "import numpy as np\n",
    "\n",
    "import matplotlib.pyplot as plt\n",
    "\n",
    "from PIL import Image\n",
    "\n",
    "from sklearn.model_selection import train_test_split\n",
    "\n",
    "import pandas as pd "
   ]
  },
  {
   "cell_type": "code",
   "execution_count": null,
   "id": "291c6f7a",
   "metadata": {},
   "outputs": [],
   "source": [
    "x = glob.glob(\"../../final_challenge/datasets/datasets_train/car_models_database_train/*\")"
   ]
  },
  {
   "cell_type": "code",
   "execution_count": null,
   "id": "6670a8ce",
   "metadata": {},
   "outputs": [],
   "source": [
    "#X creation of this dataset\n",
    "img = 0\n",
    "X = []\n",
    "for k in x :\n",
    "    img = Image.open(k)\n",
    "    X.append(np.array(img, dtype = np.uint8))\n",
    "\n",
    "X = np.array(X)\n",
    "plt.imshow(X[100])"
   ]
  },
  {
   "cell_type": "code",
   "execution_count": null,
   "id": "29c971e5",
   "metadata": {},
   "outputs": [],
   "source": [
    "#y creation of this dataset\n",
    "y = []\n",
    "test = ''\n",
    "for k in x :\n",
    "    test = k[72:].split(\"_\")[0]\n",
    "    y.append(test)\n",
    "y = np.array(y)\n",
    "y"
   ]
  },
  {
   "cell_type": "code",
   "execution_count": null,
   "id": "e61bf5d7",
   "metadata": {},
   "outputs": [],
   "source": [
    "X_train, X_test, y_train, y_test = train_test_split(X, y, test_size=0.1)"
   ]
  }
 ],
 "metadata": {
  "kernelspec": {
   "display_name": "Python 3 (ipykernel)",
   "language": "python",
   "name": "python3"
  },
  "language_info": {
   "codemirror_mode": {
    "name": "ipython",
    "version": 3
   },
   "file_extension": ".py",
   "mimetype": "text/x-python",
   "name": "python",
   "nbconvert_exporter": "python",
   "pygments_lexer": "ipython3",
   "version": "3.8.12"
  }
 },
 "nbformat": 4,
 "nbformat_minor": 5
}
