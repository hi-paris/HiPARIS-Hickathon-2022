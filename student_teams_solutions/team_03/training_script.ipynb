{
 "cells": [
  {
   "cell_type": "code",
   "execution_count": null,
   "id": "c4dd4ff4-0799-4305-920f-1c8e0c33f381",
   "metadata": {},
   "outputs": [],
   "source": [
    "from carbonai import PowerMeter\n",
    "power_meter = PowerMeter(project_name=\"Hackhaton - Training script\", filepath=\"/home/jovyan/tmp/power_consumption.csv\")"
   ]
  },
  {
   "cell_type": "code",
   "execution_count": null,
   "id": "b259f840-3644-4c21-830f-31c0b1ef4909",
   "metadata": {},
   "outputs": [],
   "source": [
    "@power_meter.measure_power(\n",
    "   package=\"sklearn\",\n",
    "   algorithm=\"RandomForestClassifier\",\n",
    "   data_type=\"tabular\",\n",
    "   algorithm_params=\"n_estimators=300, max_depth=15\",\n",
    "   comments=\"Classifier trained on the MNIST dataset, 3rd test\"\n",
    ")\n",
    "def my_func():\n",
    "   print(\"toto\")"
   ]
  },
  {
   "cell_type": "code",
   "execution_count": null,
   "id": "341437d3-a4c9-47f7-889e-3162ace604d7",
   "metadata": {},
   "outputs": [],
   "source": [
    "power_meter"
   ]
  },
  {
   "cell_type": "code",
   "execution_count": null,
   "id": "62fef619-329c-4901-8a5d-6cf1d07a6e45",
   "metadata": {},
   "outputs": [],
   "source": [
    "from libs import preprocessing as pp\n",
    "from libs.utils import imageToTensor, crop_imgs, draw_img_boxes, box_dataset_generator\n",
    "from carDetector import carDetector\n",
    "from carClassifier import carClassifier"
   ]
  },
  {
   "cell_type": "code",
   "execution_count": null,
   "id": "c6af16ee-83a0-4191-ac49-67f93b40b919",
   "metadata": {},
   "outputs": [],
   "source": [
    "import torch\n",
    "from torch.utils.data import DataLoader"
   ]
  },
  {
   "cell_type": "code",
   "execution_count": null,
   "id": "f42d5125-a59e-45e1-8b0a-6d4656cfff4f",
   "metadata": {},
   "outputs": [],
   "source": [
    "home = \"/home/jovyan/activities_data/hi__paris_2022_hackathon/final_challenge/datasets\"\n",
    "footprint_path = f\"{home}/car_models_footprint.csv\"\n",
    "car_path = f\"{home}/datasets_train/train_annotation/_annotation.csv\"\n",
    "imgs_path = f\"{home}/datasets_train/train/\"\n",
    "tmp_folder = f\"/home/jovyan/tmp\""
   ]
  },
  {
   "cell_type": "code",
   "execution_count": null,
   "id": "3666b898-ab27-4872-9d40-a0cda77bb31e",
   "metadata": {},
   "outputs": [],
   "source": [
    "with power_meter(\n",
    "  package=\"sklearn\",\n",
    "  algorithm=\"RandomForestClassifier\",\n",
    "  data_type=\"tabular\",\n",
    "  data_shape=<your_data>.shape,\n",
    "  algorithm_params=\"n_estimators=300, max_depth=15\",\n",
    "  comments=\"Classifier trained on the MNIST dataset, 3rd test\"\n",
    "):"
   ]
  },
  {
   "cell_type": "markdown",
   "id": "1333d0b0-cb07-4cea-802f-fbc919856a70",
   "metadata": {},
   "source": [
    "# Parameters"
   ]
  },
  {
   "cell_type": "code",
   "execution_count": null,
   "id": "02f6ee48-19a4-4feb-a2f8-1f77cafc143d",
   "metadata": {},
   "outputs": [],
   "source": [
    "BATCH_SIZE = 1\n",
    "DEVICE = torch.device(\"cuda\" if torch.cuda.is_available() else \"cpu\")"
   ]
  },
  {
   "cell_type": "markdown",
   "id": "1f704d92-a0d6-4810-abad-c2af95657095",
   "metadata": {
    "tags": []
   },
   "source": [
    "# Loading datasets"
   ]
  },
  {
   "cell_type": "code",
   "execution_count": null,
   "id": "2c93f996-9a76-4717-8f50-edbe834e720c",
   "metadata": {},
   "outputs": [],
   "source": [
    "x, y = pp.create_car_dataset(footprint_path, car_path, label=\"brand\")\n",
    "img_dataset = pp.ImageDataset(imgs_path, footprint_path, car_path, num_pixels=512, min_max_scaling=True)\n",
    "\n",
    "n_images = len(img_dataset)\n",
    "print(f\"Containing {n_images} images\")"
   ]
  },
  {
   "cell_type": "markdown",
   "id": "179fb989-e2df-4519-8da7-b1d79dd9c45b",
   "metadata": {},
   "source": [
    "# Train / Test split"
   ]
  },
  {
   "cell_type": "code",
   "execution_count": null,
   "id": "79c93c28-1376-4c56-85c3-7a1da02b0262",
   "metadata": {},
   "outputs": [],
   "source": [
    "train_proportion = 0.7\n",
    "\n",
    "num_train = int(len(img_dataset) * train_proportion)\n",
    "num_test = len(img_dataset) - num_train\n",
    "\n",
    "# Datasets\n",
    "train_set, val_set = torch.utils.data.random_split(img_dataset, [num_train, num_test])\n",
    "\n",
    "# Dataloaders\n",
    "train_loader = DataLoader(train_set, batch_size=BATCH_SIZE)\n",
    "val_loader = DataLoader(val_set, batch_size=BATCH_SIZE)"
   ]
  },
  {
   "cell_type": "markdown",
   "id": "50928034-e355-4907-912f-bafdd3adf5ba",
   "metadata": {},
   "source": [
    "# Loading models"
   ]
  },
  {
   "cell_type": "code",
   "execution_count": null,
   "id": "42e079e5-7098-46e0-af02-1d0bdf0d9512",
   "metadata": {},
   "outputs": [],
   "source": [
    "car_detector = carDetector(min_prob=4e-1, car_idx=3)\n",
    "car_classifier = carClassifier()"
   ]
  },
  {
   "cell_type": "markdown",
   "id": "f6b86bac-881c-408d-b341-c2534f404829",
   "metadata": {},
   "source": [
    "# Loading Box dataset"
   ]
  },
  {
   "cell_type": "code",
   "execution_count": null,
   "id": "c8d306e6-8224-46ca-9477-478186ef5dc7",
   "metadata": {},
   "outputs": [],
   "source": [
    "generate_images = False:\n",
    "    \n",
    "if generate_images:\n",
    "    X_train, y_train = box_dataset_generator(\n",
    "        train_set,\n",
    "        f\"{tmp_folder}/train\",\n",
    "        car_detector,\n",
    "        DEVICE\n",
    "    )\n",
    "\n",
    "    X_test, y_test = box_dataset_generator(\n",
    "        val_set,\n",
    "        f\"{tmp_folder}/test\",\n",
    "        car_detector,\n",
    "        DEVICE\n",
    "    )\n",
    "\n",
    "    train_df = pd.DataFrame({\"X\":X_train, \"y\":y_train}, columns=[\"X\", \"y\"]).to_csv(f\"{tmp_folder}/train/record.csv\")\n",
    "    test_df = pd.DataFrame({\"X\":X_test, \"y\":y_test}, columns=[\"X\", \"y\"]).to_csv(f\"{tmp_folder}/test/record.csv\")\n",
    "else:\n",
    "    train_df = pd.read_csv(f\"{tmp_folder}/train/record.csv\")\n",
    "    X_train, y_train = train_df[\"X\"].tolist(), train_df[\"y\"].tolist()\n",
    "    test_df = pd.read_csv(f\"{tmp_folder}/test/record.csv\")\n",
    "    X_test, y_test = test_df[\"X\"].tolist(), test_df[\"y\"].tolist()\n",
    "    \n",
    "train_boxset = pp.boxDataset2(X_train, y_train)\n",
    "val_boxset = pp.boxDataset2(X_test, y_test)\n",
    "\n",
    "train_boxloader = DataLoader(train_boxset, shuffle=True, batch_size=16)\n",
    "val_boxloader = DataLoader(val_boxset, shuffle=True, batch_size=16)"
   ]
  },
  {
   "cell_type": "markdown",
   "id": "bbfa816d-bf47-4ef8-89a7-d4b87c012aec",
   "metadata": {},
   "source": [
    "# Training algorithm"
   ]
  },
  {
   "cell_type": "code",
   "execution_count": null,
   "id": "d13e5c68-d7f3-4d43-8cd8-0095475e6af2",
   "metadata": {},
   "outputs": [],
   "source": [
    "from tqdm import tqdm\n",
    "\n",
    "n_epochs = 300\n",
    "losses = []\n",
    "pbar = tqdm(range(1, n_epochs+1))\n",
    "\n",
    "car_classifier.to(DEVICE)\n",
    "\n",
    "for epoch in pbar:\n",
    "    epoch_loss = 0\n",
    "    for x, y in train_boxloader:\n",
    "        x = x.to(DEVICE)\n",
    "        y = y.to(DEVICE)\n",
    "        loss = car_classifier.fit(x, y)\n",
    "\n",
    "        pbar.set_postfix({\n",
    "            'batch loss': '{0:.2f}'.format(loss)\n",
    "        })\n",
    "\n",
    "        epoch_loss += loss\n",
    "\n",
    "    epoch_loss /= len(train_boxloader)\n",
    "    pbar.set_description('{:.5e}'.format(epoch_loss))\n",
    "\n",
    "    losses.append(epoch_loss)"
   ]
  },
  {
   "cell_type": "code",
   "execution_count": null,
   "id": "36f5c450-35b4-4095-8cd1-58b46d99774a",
   "metadata": {},
   "outputs": [],
   "source": [
    "from matplotlib import pyplot as plt\n",
    "plt.plot(losses)"
   ]
  },
  {
   "cell_type": "code",
   "execution_count": null,
   "id": "261728c7-cf5b-4449-8896-dadc6d606231",
   "metadata": {},
   "outputs": [],
   "source": [
    "import os\n",
    "torch.save(car_classifier.state_dict(), os.path.abspath('./my_work/team-03-084-submission-ab/Code/models/car_classifier_1.pth'))"
   ]
  },
  {
   "cell_type": "markdown",
   "id": "862faf16-4639-4ab6-95ff-4c8e900ce400",
   "metadata": {},
   "source": [
    "# Evaluation"
   ]
  },
  {
   "cell_type": "code",
   "execution_count": null,
   "id": "409dc4a3-bc4b-45b3-9a5b-044d589b8a03",
   "metadata": {},
   "outputs": [],
   "source": [
    "import torch\n",
    "\n",
    "y_true = []\n",
    "y_pred = []\n",
    "\n",
    "car_classifier = car_classifier.to(\"cpu\")\n",
    "for x, y in val_boxloader:\n",
    "    y_ = car_classifier.predict(x)\n",
    "    y_true.append(y)\n",
    "    y_pred.append(torch.argmax(y_, axis=1))\n",
    "    \n",
    "y_true = torch.concat(y_true)\n",
    "y_pred = torch.concat(y_pred)"
   ]
  },
  {
   "cell_type": "code",
   "execution_count": null,
   "id": "89e67196-e9c2-4abc-804d-3c7355c38fd6",
   "metadata": {},
   "outputs": [],
   "source": [
    "from sklearn.metrics import f1_score, confusion_matrix, ConfusionMatrixDisplay"
   ]
  }
 ],
 "metadata": {
  "kernelspec": {
   "display_name": "Python 3 (ipykernel)",
   "language": "python",
   "name": "python3"
  },
  "language_info": {
   "codemirror_mode": {
    "name": "ipython",
    "version": 3
   },
   "file_extension": ".py",
   "mimetype": "text/x-python",
   "name": "python",
   "nbconvert_exporter": "python",
   "pygments_lexer": "ipython3",
   "version": "3.8.12"
  }
 },
 "nbformat": 4,
 "nbformat_minor": 5
}
